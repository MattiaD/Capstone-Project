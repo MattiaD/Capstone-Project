{
 "cells": [
  {
   "cell_type": "markdown",
   "id": "a2dc6381",
   "metadata": {},
   "source": [
    "# Machine Learning Optimization for Credit Analysis"
   ]
  },
  {
   "cell_type": "markdown",
   "id": "677ab394",
   "metadata": {},
   "source": [
    "## In this notebook we will Test different Models on the dataset\n",
    "\n",
    "- first we test different models then we optimize the most promising one\n",
    "\n",
    "_refear to the other notebook in the repository for the previous phase_\n"
   ]
  },
  {
   "cell_type": "code",
   "execution_count": 1,
   "id": "1c2c0844",
   "metadata": {},
   "outputs": [],
   "source": [
    "# Libraries for Data Handling\n",
    "import pandas as pd #To work with dataset\n",
    "import numpy as np #Math library\n",
    "import seaborn as sns #Graph library that use matplot in background\n",
    "import matplotlib.pyplot as plt #to plot some parameters in seaborn"
   ]
  },
  {
   "cell_type": "code",
   "execution_count": 2,
   "id": "76d466c8",
   "metadata": {},
   "outputs": [],
   "source": [
    "# Libraries for ML pipeline\n",
    "from sklearn.model_selection import train_test_split, KFold, cross_val_score, StratifiedKFold # to split the data\n",
    "from sklearn.metrics import accuracy_score, confusion_matrix, classification_report, fbeta_score, precision_score, recall_score, f1_score #To evaluate our model\n",
    "\n",
    "from sklearn.model_selection import GridSearchCV\n",
    "\n",
    "# Algorithmns models to be compared\n",
    "from sklearn.ensemble import RandomForestClassifier\n",
    "from sklearn.linear_model import LogisticRegression\n",
    "from sklearn.tree import DecisionTreeClassifier\n",
    "from sklearn.neighbors import KNeighborsClassifier\n",
    "from sklearn.ensemble import RandomForestClassifier\n",
    "from sklearn.discriminant_analysis import LinearDiscriminantAnalysis\n",
    "from sklearn.naive_bayes import GaussianNB\n",
    "from sklearn.svm import SVC\n",
    "from xgboost import XGBClassifier\n",
    "from sklearn.utils import resample\n",
    "from sklearn.metrics import roc_curve"
   ]
  },
  {
   "cell_type": "code",
   "execution_count": 3,
   "id": "aba84b4f",
   "metadata": {},
   "outputs": [],
   "source": [
    "\n",
    "#Importing the data\n",
    "df = pd.read_csv(\"german_credit_data.csv\",index_col=0)"
   ]
  },
  {
   "cell_type": "code",
   "execution_count": 4,
   "id": "6094aba1",
   "metadata": {},
   "outputs": [
    {
     "data": {
      "text/html": [
       "<div>\n",
       "<style scoped>\n",
       "    .dataframe tbody tr th:only-of-type {\n",
       "        vertical-align: middle;\n",
       "    }\n",
       "\n",
       "    .dataframe tbody tr th {\n",
       "        vertical-align: top;\n",
       "    }\n",
       "\n",
       "    .dataframe thead th {\n",
       "        text-align: right;\n",
       "    }\n",
       "</style>\n",
       "<table border=\"1\" class=\"dataframe\">\n",
       "  <thead>\n",
       "    <tr style=\"text-align: right;\">\n",
       "      <th></th>\n",
       "      <th>Age</th>\n",
       "      <th>Sex</th>\n",
       "      <th>Job</th>\n",
       "      <th>Housing</th>\n",
       "      <th>Saving accounts</th>\n",
       "      <th>Checking account</th>\n",
       "      <th>Credit amount</th>\n",
       "      <th>Duration</th>\n",
       "      <th>Purpose</th>\n",
       "      <th>Risk</th>\n",
       "    </tr>\n",
       "  </thead>\n",
       "  <tbody>\n",
       "    <tr>\n",
       "      <th>0</th>\n",
       "      <td>67</td>\n",
       "      <td>male</td>\n",
       "      <td>2</td>\n",
       "      <td>own</td>\n",
       "      <td>NaN</td>\n",
       "      <td>little</td>\n",
       "      <td>1169</td>\n",
       "      <td>6</td>\n",
       "      <td>radio/TV</td>\n",
       "      <td>good</td>\n",
       "    </tr>\n",
       "    <tr>\n",
       "      <th>1</th>\n",
       "      <td>22</td>\n",
       "      <td>female</td>\n",
       "      <td>2</td>\n",
       "      <td>own</td>\n",
       "      <td>little</td>\n",
       "      <td>moderate</td>\n",
       "      <td>5951</td>\n",
       "      <td>48</td>\n",
       "      <td>radio/TV</td>\n",
       "      <td>bad</td>\n",
       "    </tr>\n",
       "    <tr>\n",
       "      <th>2</th>\n",
       "      <td>49</td>\n",
       "      <td>male</td>\n",
       "      <td>1</td>\n",
       "      <td>own</td>\n",
       "      <td>little</td>\n",
       "      <td>NaN</td>\n",
       "      <td>2096</td>\n",
       "      <td>12</td>\n",
       "      <td>education</td>\n",
       "      <td>good</td>\n",
       "    </tr>\n",
       "    <tr>\n",
       "      <th>3</th>\n",
       "      <td>45</td>\n",
       "      <td>male</td>\n",
       "      <td>2</td>\n",
       "      <td>free</td>\n",
       "      <td>little</td>\n",
       "      <td>little</td>\n",
       "      <td>7882</td>\n",
       "      <td>42</td>\n",
       "      <td>furniture/equipment</td>\n",
       "      <td>good</td>\n",
       "    </tr>\n",
       "    <tr>\n",
       "      <th>4</th>\n",
       "      <td>53</td>\n",
       "      <td>male</td>\n",
       "      <td>2</td>\n",
       "      <td>free</td>\n",
       "      <td>little</td>\n",
       "      <td>little</td>\n",
       "      <td>4870</td>\n",
       "      <td>24</td>\n",
       "      <td>car</td>\n",
       "      <td>bad</td>\n",
       "    </tr>\n",
       "  </tbody>\n",
       "</table>\n",
       "</div>"
      ],
      "text/plain": [
       "   Age     Sex  Job Housing Saving accounts Checking account  Credit amount  \\\n",
       "0   67    male    2     own             NaN           little           1169   \n",
       "1   22  female    2     own          little         moderate           5951   \n",
       "2   49    male    1     own          little              NaN           2096   \n",
       "3   45    male    2    free          little           little           7882   \n",
       "4   53    male    2    free          little           little           4870   \n",
       "\n",
       "   Duration              Purpose  Risk  \n",
       "0         6             radio/TV  good  \n",
       "1        48             radio/TV   bad  \n",
       "2        12            education  good  \n",
       "3        42  furniture/equipment  good  \n",
       "4        24                  car   bad  "
      ]
     },
     "execution_count": 4,
     "metadata": {},
     "output_type": "execute_result"
    }
   ],
   "source": [
    "df.head()"
   ]
  },
  {
   "cell_type": "code",
   "execution_count": 5,
   "id": "86de3ca8",
   "metadata": {},
   "outputs": [
    {
     "name": "stdout",
     "output_type": "stream",
     "text": [
      "<class 'pandas.core.frame.DataFrame'>\n",
      "Int64Index: 1000 entries, 0 to 999\n",
      "Data columns (total 10 columns):\n",
      " #   Column            Non-Null Count  Dtype \n",
      "---  ------            --------------  ----- \n",
      " 0   Age               1000 non-null   int64 \n",
      " 1   Sex               1000 non-null   object\n",
      " 2   Job               1000 non-null   int64 \n",
      " 3   Housing           1000 non-null   object\n",
      " 4   Saving accounts   817 non-null    object\n",
      " 5   Checking account  606 non-null    object\n",
      " 6   Credit amount     1000 non-null   int64 \n",
      " 7   Duration          1000 non-null   int64 \n",
      " 8   Purpose           1000 non-null   object\n",
      " 9   Risk              1000 non-null   object\n",
      "dtypes: int64(4), object(6)\n",
      "memory usage: 85.9+ KB\n"
     ]
    }
   ],
   "source": [
    "df.info()"
   ]
  },
  {
   "cell_type": "markdown",
   "id": "42a04146",
   "metadata": {},
   "source": [
    "### Handling Categorical Features"
   ]
  },
  {
   "cell_type": "code",
   "execution_count": 6,
   "id": "756e64af",
   "metadata": {},
   "outputs": [
    {
     "name": "stdout",
     "output_type": "stream",
     "text": [
      "Purpose :  ['radio/TV' 'education' 'furniture/equipment' 'car' 'business'\n",
      " 'domestic appliances' 'repairs' 'vacation/others']\n",
      "Sex :  ['male' 'female']\n",
      "Housing :  ['own' 'free' 'rent']\n",
      "Saving accounts :  [nan 'little' 'quite rich' 'rich' 'moderate']\n",
      "Risk :  ['good' 'bad']\n",
      "Checking account :  ['little' 'moderate' nan 'rich']\n"
     ]
    }
   ],
   "source": [
    "# Exploring the values for each feture\n",
    "print(\"Purpose : \",df.Purpose.unique())\n",
    "print(\"Sex : \",df.Sex.unique())\n",
    "print(\"Housing : \",df.Housing.unique())\n",
    "print(\"Saving accounts : \",df['Saving accounts'].unique())\n",
    "print(\"Risk : \",df['Risk'].unique())\n",
    "print(\"Checking account : \",df['Checking account'].unique())"
   ]
  },
  {
   "cell_type": "code",
   "execution_count": 7,
   "id": "e22a179d",
   "metadata": {},
   "outputs": [],
   "source": [
    "# Creating Bins for Age groups\n",
    "interval = (18, 25, 35, 60, 120)\n",
    "\n",
    "cats = ['Student', 'Young', 'Adult', 'Senior']\n",
    "df[\"Age_cat\"] = pd.cut(df.Age, interval, labels=cats)"
   ]
  },
  {
   "cell_type": "code",
   "execution_count": 8,
   "id": "a3447001",
   "metadata": {},
   "outputs": [],
   "source": [
    "#Function for Creating Dummies Variables\n",
    "def one_hot_encoder(df, nan_as_category = False):\n",
    "    original_columns = list(df.columns)\n",
    "    categorical_columns = [col for col in df.columns if df[col].dtype == 'object']\n",
    "    df = pd.get_dummies(df, columns= categorical_columns, dummy_na= nan_as_category, drop_first=True)\n",
    "    new_columns = [c for c in df.columns if c not in original_columns]\n",
    "    return df, new_columns"
   ]
  },
  {
   "cell_type": "code",
   "execution_count": 9,
   "id": "6253b8b1",
   "metadata": {},
   "outputs": [],
   "source": [
    "#Purpose to Dummies Variable\n",
    "df = df.merge(pd.get_dummies(df.Purpose, drop_first=True, prefix='Purpose'), left_index=True, right_index=True)\n",
    "#Sex feature in dummies\n",
    "df = df.merge(pd.get_dummies(df.Sex, drop_first=True, prefix='Sex'), left_index=True, right_index=True)\n",
    "# Housing get dummies\n",
    "df = df.merge(pd.get_dummies(df.Housing, drop_first=True, prefix='Housing'), left_index=True, right_index=True)\n",
    "# Housing get Saving Accounts\n",
    "df = df.merge(pd.get_dummies(df[\"Saving accounts\"], drop_first=True, prefix='Savings'), left_index=True, right_index=True)\n",
    "# Housing get Risk\n",
    "df = df.merge(pd.get_dummies(df.Risk, prefix='Risk'), left_index=True, right_index=True)\n",
    "# Housing get Checking Account\n",
    "df = df.merge(pd.get_dummies(df[\"Checking account\"], drop_first=True, prefix='Check'), left_index=True, right_index=True)\n",
    "# Housing get Age categorical\n",
    "df = df.merge(pd.get_dummies(df[\"Age_cat\"], drop_first=True, prefix='Age_cat'), left_index=True, right_index=True)"
   ]
  },
  {
   "cell_type": "code",
   "execution_count": 10,
   "id": "26ef1f74",
   "metadata": {},
   "outputs": [
    {
     "data": {
      "text/html": [
       "<div>\n",
       "<style scoped>\n",
       "    .dataframe tbody tr th:only-of-type {\n",
       "        vertical-align: middle;\n",
       "    }\n",
       "\n",
       "    .dataframe tbody tr th {\n",
       "        vertical-align: top;\n",
       "    }\n",
       "\n",
       "    .dataframe thead th {\n",
       "        text-align: right;\n",
       "    }\n",
       "</style>\n",
       "<table border=\"1\" class=\"dataframe\">\n",
       "  <thead>\n",
       "    <tr style=\"text-align: right;\">\n",
       "      <th></th>\n",
       "      <th>Age</th>\n",
       "      <th>Sex</th>\n",
       "      <th>Job</th>\n",
       "      <th>Housing</th>\n",
       "      <th>Saving accounts</th>\n",
       "      <th>Checking account</th>\n",
       "      <th>Credit amount</th>\n",
       "      <th>Duration</th>\n",
       "      <th>Purpose</th>\n",
       "      <th>Risk</th>\n",
       "      <th>...</th>\n",
       "      <th>Savings_moderate</th>\n",
       "      <th>Savings_quite rich</th>\n",
       "      <th>Savings_rich</th>\n",
       "      <th>Risk_bad</th>\n",
       "      <th>Risk_good</th>\n",
       "      <th>Check_moderate</th>\n",
       "      <th>Check_rich</th>\n",
       "      <th>Age_cat_Young</th>\n",
       "      <th>Age_cat_Adult</th>\n",
       "      <th>Age_cat_Senior</th>\n",
       "    </tr>\n",
       "  </thead>\n",
       "  <tbody>\n",
       "    <tr>\n",
       "      <th>0</th>\n",
       "      <td>67</td>\n",
       "      <td>male</td>\n",
       "      <td>2</td>\n",
       "      <td>own</td>\n",
       "      <td>NaN</td>\n",
       "      <td>little</td>\n",
       "      <td>1169</td>\n",
       "      <td>6</td>\n",
       "      <td>radio/TV</td>\n",
       "      <td>good</td>\n",
       "      <td>...</td>\n",
       "      <td>0</td>\n",
       "      <td>0</td>\n",
       "      <td>0</td>\n",
       "      <td>0</td>\n",
       "      <td>1</td>\n",
       "      <td>0</td>\n",
       "      <td>0</td>\n",
       "      <td>0</td>\n",
       "      <td>0</td>\n",
       "      <td>1</td>\n",
       "    </tr>\n",
       "    <tr>\n",
       "      <th>1</th>\n",
       "      <td>22</td>\n",
       "      <td>female</td>\n",
       "      <td>2</td>\n",
       "      <td>own</td>\n",
       "      <td>little</td>\n",
       "      <td>moderate</td>\n",
       "      <td>5951</td>\n",
       "      <td>48</td>\n",
       "      <td>radio/TV</td>\n",
       "      <td>bad</td>\n",
       "      <td>...</td>\n",
       "      <td>0</td>\n",
       "      <td>0</td>\n",
       "      <td>0</td>\n",
       "      <td>1</td>\n",
       "      <td>0</td>\n",
       "      <td>1</td>\n",
       "      <td>0</td>\n",
       "      <td>0</td>\n",
       "      <td>0</td>\n",
       "      <td>0</td>\n",
       "    </tr>\n",
       "    <tr>\n",
       "      <th>2</th>\n",
       "      <td>49</td>\n",
       "      <td>male</td>\n",
       "      <td>1</td>\n",
       "      <td>own</td>\n",
       "      <td>little</td>\n",
       "      <td>NaN</td>\n",
       "      <td>2096</td>\n",
       "      <td>12</td>\n",
       "      <td>education</td>\n",
       "      <td>good</td>\n",
       "      <td>...</td>\n",
       "      <td>0</td>\n",
       "      <td>0</td>\n",
       "      <td>0</td>\n",
       "      <td>0</td>\n",
       "      <td>1</td>\n",
       "      <td>0</td>\n",
       "      <td>0</td>\n",
       "      <td>0</td>\n",
       "      <td>1</td>\n",
       "      <td>0</td>\n",
       "    </tr>\n",
       "    <tr>\n",
       "      <th>3</th>\n",
       "      <td>45</td>\n",
       "      <td>male</td>\n",
       "      <td>2</td>\n",
       "      <td>free</td>\n",
       "      <td>little</td>\n",
       "      <td>little</td>\n",
       "      <td>7882</td>\n",
       "      <td>42</td>\n",
       "      <td>furniture/equipment</td>\n",
       "      <td>good</td>\n",
       "      <td>...</td>\n",
       "      <td>0</td>\n",
       "      <td>0</td>\n",
       "      <td>0</td>\n",
       "      <td>0</td>\n",
       "      <td>1</td>\n",
       "      <td>0</td>\n",
       "      <td>0</td>\n",
       "      <td>0</td>\n",
       "      <td>1</td>\n",
       "      <td>0</td>\n",
       "    </tr>\n",
       "    <tr>\n",
       "      <th>4</th>\n",
       "      <td>53</td>\n",
       "      <td>male</td>\n",
       "      <td>2</td>\n",
       "      <td>free</td>\n",
       "      <td>little</td>\n",
       "      <td>little</td>\n",
       "      <td>4870</td>\n",
       "      <td>24</td>\n",
       "      <td>car</td>\n",
       "      <td>bad</td>\n",
       "      <td>...</td>\n",
       "      <td>0</td>\n",
       "      <td>0</td>\n",
       "      <td>0</td>\n",
       "      <td>1</td>\n",
       "      <td>0</td>\n",
       "      <td>0</td>\n",
       "      <td>0</td>\n",
       "      <td>0</td>\n",
       "      <td>1</td>\n",
       "      <td>0</td>\n",
       "    </tr>\n",
       "  </tbody>\n",
       "</table>\n",
       "<p>5 rows × 31 columns</p>\n",
       "</div>"
      ],
      "text/plain": [
       "   Age     Sex  Job Housing Saving accounts Checking account  Credit amount  \\\n",
       "0   67    male    2     own             NaN           little           1169   \n",
       "1   22  female    2     own          little         moderate           5951   \n",
       "2   49    male    1     own          little              NaN           2096   \n",
       "3   45    male    2    free          little           little           7882   \n",
       "4   53    male    2    free          little           little           4870   \n",
       "\n",
       "   Duration              Purpose  Risk  ... Savings_moderate  \\\n",
       "0         6             radio/TV  good  ...                0   \n",
       "1        48             radio/TV   bad  ...                0   \n",
       "2        12            education  good  ...                0   \n",
       "3        42  furniture/equipment  good  ...                0   \n",
       "4        24                  car   bad  ...                0   \n",
       "\n",
       "   Savings_quite rich  Savings_rich  Risk_bad  Risk_good  Check_moderate  \\\n",
       "0                   0             0         0          1               0   \n",
       "1                   0             0         1          0               1   \n",
       "2                   0             0         0          1               0   \n",
       "3                   0             0         0          1               0   \n",
       "4                   0             0         1          0               0   \n",
       "\n",
       "   Check_rich  Age_cat_Young  Age_cat_Adult  Age_cat_Senior  \n",
       "0           0              0              0               1  \n",
       "1           0              0              0               0  \n",
       "2           0              0              1               0  \n",
       "3           0              0              1               0  \n",
       "4           0              0              1               0  \n",
       "\n",
       "[5 rows x 31 columns]"
      ]
     },
     "execution_count": 10,
     "metadata": {},
     "output_type": "execute_result"
    }
   ],
   "source": [
    "df.head()"
   ]
  },
  {
   "cell_type": "code",
   "execution_count": 11,
   "id": "75d6351a",
   "metadata": {},
   "outputs": [],
   "source": [
    "#Excluding the missing columns\n",
    "del df[\"Saving accounts\"]\n",
    "del df[\"Checking account\"]\n",
    "del df[\"Purpose\"]\n",
    "del df[\"Sex\"]\n",
    "del df[\"Housing\"]\n",
    "del df[\"Age_cat\"]\n",
    "del df[\"Risk\"]\n",
    "del df['Risk_good']"
   ]
  },
  {
   "cell_type": "markdown",
   "id": "544eda9e",
   "metadata": {},
   "source": [
    "### Reducing the Scale of Credit amount"
   ]
  },
  {
   "cell_type": "code",
   "execution_count": 12,
   "id": "2dacbe33",
   "metadata": {},
   "outputs": [],
   "source": [
    "df['Credit amount'] = np.log(df['Credit amount'])"
   ]
  },
  {
   "cell_type": "markdown",
   "id": "ec5692da",
   "metadata": {},
   "source": [
    "### Preparing Dataset for ML pipeline"
   ]
  },
  {
   "cell_type": "code",
   "execution_count": 13,
   "id": "a74d39c1",
   "metadata": {},
   "outputs": [
    {
     "name": "stderr",
     "output_type": "stream",
     "text": [
      "C:\\Users\\mdibene\\AppData\\Local\\Temp\\ipykernel_1192\\315002513.py:2: FutureWarning: In a future version of pandas all arguments of DataFrame.drop except for the argument 'labels' will be keyword-only.\n",
      "  X = df.drop('Risk_bad', 1).values\n"
     ]
    }
   ],
   "source": [
    "#Creating the X and y variables\n",
    "X = df.drop('Risk_bad', 1).values\n",
    "y = df[\"Risk_bad\"].values"
   ]
  },
  {
   "cell_type": "code",
   "execution_count": 14,
   "id": "5f556fdf",
   "metadata": {},
   "outputs": [],
   "source": [
    "# Spliting X and y into train and test version\n",
    "X_train, X_test, y_train, y_test = train_test_split(X, y, test_size = 0.25, random_state=42)"
   ]
  },
  {
   "cell_type": "markdown",
   "id": "3b272efb",
   "metadata": {},
   "source": [
    "### ML pipeline for Evaluating different ML algorithms"
   ]
  },
  {
   "cell_type": "code",
   "execution_count": 15,
   "id": "058cf7b1",
   "metadata": {
    "scrolled": false
   },
   "outputs": [],
   "source": [
    "%%capture\n",
    "seed = 7\n",
    "\n",
    "\n",
    "models = []\n",
    "models.append(('LR', LogisticRegression()))\n",
    "models.append(('LDA', LinearDiscriminantAnalysis()))\n",
    "models.append(('KNN', KNeighborsClassifier()))\n",
    "models.append(('CART', DecisionTreeClassifier()))\n",
    "models.append(('NB', GaussianNB()))\n",
    "models.append(('RF', RandomForestClassifier()))\n",
    "models.append(('SVM', SVC(gamma='auto')))\n",
    "models.append(('XGB', XGBClassifier()))\n",
    "\n",
    "# Model evaluation\n",
    "results = []\n",
    "names = []\n",
    "scoring = 'recall'\n",
    "\n",
    "for name, model in models:\n",
    "        kfold = KFold(n_splits=10, random_state=seed, shuffle=True)\n",
    "        cv_results = cross_val_score(model, X_train, y_train, cv=kfold, scoring=scoring)\n",
    "        results.append(cv_results)\n",
    "        names.append(name)"
   ]
  },
  {
   "cell_type": "code",
   "execution_count": 16,
   "id": "f25c9a07",
   "metadata": {},
   "outputs": [
    {
     "data": {
      "image/png": "[encoded data removed]",
      "text/plain": [
       "<Figure size 1100x600 with 1 Axes>"
      ]
     },
     "metadata": {},
     "output_type": "display_data"
    }
   ],
   "source": [
    "# boxplot comparison\n",
    "fig = plt.figure(figsize=(11,6))\n",
    "fig.suptitle('Algorithm Comparison')\n",
    "ax = fig.add_subplot(111)\n",
    "plt.boxplot(results)\n",
    "ax.set_xticklabels(names)\n",
    "plt.show()"
   ]
  },
  {
   "cell_type": "code",
   "execution_count": 17,
   "id": "bfff4fd0",
   "metadata": {},
   "outputs": [],
   "source": [
    "GNB = GaussianNB()\n",
    "\n",
    "# Fitting with train data\n",
    "model = GNB.fit(X_train, y_train)"
   ]
  },
  {
   "cell_type": "code",
   "execution_count": 18,
   "id": "84680380",
   "metadata": {},
   "outputs": [
    {
     "name": "stdout",
     "output_type": "stream",
     "text": [
      "Training score data: \n",
      "0.672\n"
     ]
    }
   ],
   "source": [
    "print(\"Training score data: \")\n",
    "print(model.score(X_train, y_train))"
   ]
  },
  {
   "cell_type": "code",
   "execution_count": 19,
   "id": "1b5a54ae",
   "metadata": {},
   "outputs": [
    {
     "name": "stdout",
     "output_type": "stream",
     "text": [
      "0.608\n",
      "\n",
      "\n",
      "[[119  59]\n",
      " [ 39  33]]\n",
      "\n",
      "\n",
      "              precision    recall  f1-score   support\n",
      "\n",
      "           0       0.75      0.67      0.71       178\n",
      "           1       0.36      0.46      0.40        72\n",
      "\n",
      "    accuracy                           0.61       250\n",
      "   macro avg       0.56      0.56      0.56       250\n",
      "weighted avg       0.64      0.61      0.62       250\n",
      "\n"
     ]
    }
   ],
   "source": [
    "y_pred = model.predict(X_test)\n",
    "\n",
    "print(accuracy_score(y_test,y_pred))\n",
    "print(\"\\n\")\n",
    "print(confusion_matrix(y_test, y_pred))\n",
    "print(\"\\n\")\n",
    "print(classification_report(y_test, y_pred))"
   ]
  },
  {
   "cell_type": "code",
   "execution_count": 20,
   "id": "69b9c669",
   "metadata": {},
   "outputs": [
    {
     "data": {
      "image/png": "[encoded data removed]",
      "text/plain": [
       "<Figure size 640x480 with 1 Axes>"
      ]
     },
     "metadata": {},
     "output_type": "display_data"
    }
   ],
   "source": [
    "y_pred_prob = model.predict_proba(X_test)[:,1]\n",
    "\n",
    "# Generate ROC curve values: fpr, tpr, thresholds\n",
    "fpr, tpr, thresholds = roc_curve(y_test, y_pred_prob)\n",
    "\n",
    "# Plot ROC curve\n",
    "plt.plot([0, 1], [0, 1], 'k--')\n",
    "plt.plot(fpr, tpr)\n",
    "plt.xlabel('False Positive Rate')\n",
    "plt.ylabel('True Positive Rate')\n",
    "plt.title('ROC Curve')\n",
    "plt.show()"
   ]
  },
  {
   "cell_type": "markdown",
   "id": "2e0f66f9",
   "metadata": {},
   "source": [
    "### Summary:\n",
    "\n",
    "- In General the performance of the different models mesured using the Recall is relly poor\n",
    "\n",
    "- The best performing model is the Naive Bayes Classifier followed by the Decision tree Classifier and The XGBoost Algorithm"
   ]
  },
  {
   "cell_type": "markdown",
   "id": "8c5e6238",
   "metadata": {},
   "source": [
    "## Optimization Section"
   ]
  },
  {
   "cell_type": "markdown",
   "id": "05acff25",
   "metadata": {},
   "source": [
    "### Grid Search For Random Forest"
   ]
  },
  {
   "cell_type": "code",
   "execution_count": 21,
   "id": "28ee238a",
   "metadata": {},
   "outputs": [],
   "source": [
    "param_grid = {\"max_depth\": [3,5, 7, 10,None],\n",
    "              \"n_estimators\":[3,5,10,25,50,150],\n",
    "              \"max_features\": [4,7,15,20]}\n",
    "\n",
    "#Creating the classifier\n",
    "model_rf = RandomForestClassifier(random_state=2)"
   ]
  },
  {
   "cell_type": "code",
   "execution_count": 22,
   "id": "e81f1315",
   "metadata": {},
   "outputs": [],
   "source": [
    "%%capture\n",
    "grid_search = GridSearchCV(model_rf, param_grid=param_grid, cv=5, scoring='recall', verbose=4)\n",
    "grid_search.fit(X_train, y_train)"
   ]
  },
  {
   "cell_type": "code",
   "execution_count": 23,
   "id": "658bf0f2",
   "metadata": {},
   "outputs": [
    {
     "name": "stdout",
     "output_type": "stream",
     "text": [
      "0.4028985507246377\n",
      "{'max_depth': None, 'max_features': 20, 'n_estimators': 3}\n"
     ]
    }
   ],
   "source": [
    "print(grid_search.best_score_)\n",
    "print(grid_search.best_params_)"
   ]
  },
  {
   "cell_type": "code",
   "execution_count": 24,
   "id": "e795d654",
   "metadata": {},
   "outputs": [
    {
     "data": {
      "text/html": [
       "<style>#sk-container-id-2 {color: black;background-color: white;}#sk-container-id-2 pre{padding: 0;}#sk-container-id-2 div.sk-toggleable {background-color: white;}#sk-container-id-2 label.sk-toggleable__label {cursor: pointer;display: block;width: 100%;margin-bottom: 0;padding: 0.3em;box-sizing: border-box;text-align: center;}#sk-container-id-2 label.sk-toggleable__label-arrow:before {content: \"▸\";float: left;margin-right: 0.25em;color: #696969;}#sk-container-id-2 label.sk-toggleable__label-arrow:hover:before {color: black;}#sk-container-id-2 div.sk-estimator:hover label.sk-toggleable__label-arrow:before {color: black;}#sk-container-id-2 div.sk-toggleable__content {max-height: 0;max-width: 0;overflow: hidden;text-align: left;background-color: #f0f8ff;}#sk-container-id-2 div.sk-toggleable__content pre {margin: 0.2em;color: black;border-radius: 0.25em;background-color: #f0f8ff;}#sk-container-id-2 input.sk-toggleable__control:checked~div.sk-toggleable__content {max-height: 200px;max-width: 100%;overflow: auto;}#sk-container-id-2 input.sk-toggleable__control:checked~label.sk-toggleable__label-arrow:before {content: \"▾\";}#sk-container-id-2 div.sk-estimator input.sk-toggleable__control:checked~label.sk-toggleable__label {background-color: #d4ebff;}#sk-container-id-2 div.sk-label input.sk-toggleable__control:checked~label.sk-toggleable__label {background-color: #d4ebff;}#sk-container-id-2 input.sk-hidden--visually {border: 0;clip: rect(1px 1px 1px 1px);clip: rect(1px, 1px, 1px, 1px);height: 1px;margin: -1px;overflow: hidden;padding: 0;position: absolute;width: 1px;}#sk-container-id-2 div.sk-estimator {font-family: monospace;background-color: #f0f8ff;border: 1px dotted black;border-radius: 0.25em;box-sizing: border-box;margin-bottom: 0.5em;}#sk-container-id-2 div.sk-estimator:hover {background-color: #d4ebff;}#sk-container-id-2 div.sk-parallel-item::after {content: \"\";width: 100%;border-bottom: 1px solid gray;flex-grow: 1;}#sk-container-id-2 div.sk-label:hover label.sk-toggleable__label {background-color: #d4ebff;}#sk-container-id-2 div.sk-serial::before {content: \"\";position: absolute;border-left: 1px solid gray;box-sizing: border-box;top: 0;bottom: 0;left: 50%;z-index: 0;}#sk-container-id-2 div.sk-serial {display: flex;flex-direction: column;align-items: center;background-color: white;padding-right: 0.2em;padding-left: 0.2em;position: relative;}#sk-container-id-2 div.sk-item {position: relative;z-index: 1;}#sk-container-id-2 div.sk-parallel {display: flex;align-items: stretch;justify-content: center;background-color: white;position: relative;}#sk-container-id-2 div.sk-item::before, #sk-container-id-2 div.sk-parallel-item::before {content: \"\";position: absolute;border-left: 1px solid gray;box-sizing: border-box;top: 0;bottom: 0;left: 50%;z-index: -1;}#sk-container-id-2 div.sk-parallel-item {display: flex;flex-direction: column;z-index: 1;position: relative;background-color: white;}#sk-container-id-2 div.sk-parallel-item:first-child::after {align-self: flex-end;width: 50%;}#sk-container-id-2 div.sk-parallel-item:last-child::after {align-self: flex-start;width: 50%;}#sk-container-id-2 div.sk-parallel-item:only-child::after {width: 0;}#sk-container-id-2 div.sk-dashed-wrapped {border: 1px dashed gray;margin: 0 0.4em 0.5em 0.4em;box-sizing: border-box;padding-bottom: 0.4em;background-color: white;}#sk-container-id-2 div.sk-label label {font-family: monospace;font-weight: bold;display: inline-block;line-height: 1.2em;}#sk-container-id-2 div.sk-label-container {text-align: center;}#sk-container-id-2 div.sk-container {/* jupyter's `normalize.less` sets `[hidden] { display: none; }` but bootstrap.min.css set `[hidden] { display: none !important; }` so we also need the `!important` here to be able to override the default hidden behavior on the sphinx rendered scikit-learn.org. See: https://github.com/scikit-learn/scikit-learn/issues/21755 */display: inline-block !important;position: relative;}#sk-container-id-2 div.sk-text-repr-fallback {display: none;}</style><div id=\"sk-container-id-2\" class=\"sk-top-container\"><div class=\"sk-text-repr-fallback\"><pre>RandomForestClassifier(max_features=20, n_estimators=3, random_state=2)</pre><b>In a Jupyter environment, please rerun this cell to show the HTML representation or trust the notebook. <br />On GitHub, the HTML representation is unable to render, please try loading this page with nbviewer.org.</b></div><div class=\"sk-container\" hidden><div class=\"sk-item\"><div class=\"sk-estimator sk-toggleable\"><input class=\"sk-toggleable__control sk-hidden--visually\" id=\"sk-estimator-id-4\" type=\"checkbox\" checked><label for=\"sk-estimator-id-4\" class=\"sk-toggleable__label sk-toggleable__label-arrow\">RandomForestClassifier</label><div class=\"sk-toggleable__content\"><pre>RandomForestClassifier(max_features=20, n_estimators=3, random_state=2)</pre></div></div></div></div></div>"
      ],
      "text/plain": [
       "RandomForestClassifier(max_features=20, n_estimators=3, random_state=2)"
      ]
     },
     "execution_count": 24,
     "metadata": {},
     "output_type": "execute_result"
    }
   ],
   "source": [
    "rf = RandomForestClassifier(max_depth=None, max_features=20, n_estimators=3, random_state=2)\n",
    "\n",
    "#trainning with the best params\n",
    "rf.fit(X_train, y_train)"
   ]
  },
  {
   "cell_type": "code",
   "execution_count": 25,
   "id": "167c17ff",
   "metadata": {},
   "outputs": [
    {
     "name": "stdout",
     "output_type": "stream",
     "text": [
      "0.636\n",
      "\n",
      "\n",
      "[[137  41]\n",
      " [ 50  22]]\n",
      "\n",
      "\n",
      "0.3133903133903134\n"
     ]
    }
   ],
   "source": [
    "#Testing the model \n",
    "#Predicting using our  model\n",
    "y_pred = rf.predict(X_test)\n",
    "\n",
    "# Verificaar os resultados obtidos\n",
    "print(accuracy_score(y_test,y_pred))\n",
    "print(\"\\n\")\n",
    "print(confusion_matrix(y_test, y_pred))\n",
    "print(\"\\n\")\n",
    "print(fbeta_score(y_test, y_pred, beta=2))"
   ]
  },
  {
   "cell_type": "markdown",
   "id": "5c3fdcfc",
   "metadata": {},
   "source": [
    "### Grid Search For XGBoost"
   ]
  },
  {
   "cell_type": "code",
   "execution_count": 26,
   "id": "8df65ab2",
   "metadata": {},
   "outputs": [],
   "source": [
    "#Seting the Hyper Parameters\n",
    "param_test1 = {\n",
    " 'max_depth':[3,5,6,10],\n",
    " 'min_child_weight':[3,5,10],\n",
    " 'gamma':[0.0, 0.1, 0.2, 0.3, 0.4],\n",
    "# 'reg_alpha':[1e-5, 1e-2, 0.1, 1, 10],\n",
    " 'subsample':[i/100.0 for i in range(75,90,5)],\n",
    " 'colsample_bytree':[i/100.0 for i in range(75,90,5)]\n",
    "}\n",
    "\n",
    "model_xg = XGBClassifier(random_state=2)"
   ]
  },
  {
   "cell_type": "code",
   "execution_count": 27,
   "id": "c0387b2d",
   "metadata": {},
   "outputs": [],
   "source": [
    "%%capture\n",
    "grid_search = GridSearchCV(model_xg, param_grid=param_test1, cv=5, scoring='recall')\n",
    "grid_search.fit(X_train, y_train)"
   ]
  },
  {
   "cell_type": "code",
   "execution_count": 28,
   "id": "f98cf995",
   "metadata": {},
   "outputs": [
    {
     "data": {
      "text/plain": [
       "{'colsample_bytree': 0.85,\n",
       " 'gamma': 0.0,\n",
       " 'max_depth': 5,\n",
       " 'min_child_weight': 3,\n",
       " 'subsample': 0.75}"
      ]
     },
     "execution_count": 28,
     "metadata": {},
     "output_type": "execute_result"
    }
   ],
   "source": [
    "grid_search.best_score_\n",
    "grid_search.best_params_"
   ]
  },
  {
   "cell_type": "code",
   "execution_count": 29,
   "id": "366c42ee",
   "metadata": {},
   "outputs": [
    {
     "name": "stdout",
     "output_type": "stream",
     "text": [
      "0.692\n",
      "\n",
      "\n",
      "[[149  29]\n",
      " [ 48  24]]\n",
      "\n",
      "\n",
      "0.3333333333333333\n",
      "\n",
      "\n",
      "0.4528301886792453\n"
     ]
    }
   ],
   "source": [
    "y_pred_xgb = grid_search.predict(X_test)\n",
    "\n",
    "# Verificaar os resultados obtidos\n",
    "print(accuracy_score(y_test,y_pred_xgb))\n",
    "print(\"\\n\")\n",
    "print(confusion_matrix(y_test, y_pred_xgb))\n",
    "print(\"\\n\")\n",
    "print(recall_score(y_test, y_pred_xgb))\n",
    "print(\"\\n\")\n",
    "print(precision_score(y_test, y_pred_xgb))"
   ]
  },
  {
   "cell_type": "code",
   "execution_count": 30,
   "id": "52573ec0",
   "metadata": {},
   "outputs": [
    {
     "data": {
      "image/png": "[encoded data removed]",
      "text/plain": [
       "<Figure size 640x480 with 1 Axes>"
      ]
     },
     "metadata": {},
     "output_type": "display_data"
    }
   ],
   "source": [
    "# Generate ROC curve values: fpr, tpr, thresholds\n",
    "fpr, tpr, thresholds = roc_curve(y_test, y_pred_xgb)\n",
    "\n",
    "# Plot ROC curve\n",
    "plt.plot([0, 1], [0, 1], 'k--')\n",
    "plt.plot(fpr, tpr)\n",
    "plt.xlabel('False Positive Rate')\n",
    "plt.ylabel('True Positive Rate')\n",
    "plt.title('ROC Curve')\n",
    "plt.show()"
   ]
  },
  {
   "cell_type": "markdown",
   "id": "56d74b0a",
   "metadata": {},
   "source": [
    "### Summary:\n",
    "\n",
    "- Overall the results are poor and the models are not able to correctly predict the false positive (most dangerous from a bank prospective)\n",
    "\n",
    "- Using the Grid search the models slightly improved the performance\n",
    "\n",
    "- The accuracy score for XGB and RF indicate that they both outperforme the NB classifier. \n",
    "\n"
   ]
  },
  {
   "cell_type": "markdown",
   "id": "50803cf0",
   "metadata": {},
   "source": [
    "### Bayesian Optimization for random forest"
   ]
  },
  {
   "cell_type": "markdown",
   "id": "cec9edfe",
   "metadata": {},
   "source": [
    "### Bayesian optimization for Hyperparameter tuning\n",
    "\n",
    "Bayesian optimization (BO) is an automated procedure for hyperparameter tuning. BO uses gaussian process to model mean and variance of the target function.\n",
    "\n",
    "Gaussian process\n",
    "Guassian process is a prior distribution on functions, and in the case of hyperparameter tuning it will be of the form:\n",
    "\n",
    "$f:χ→R$\n",
    " \n",
    "\n",
    "Where  $χ$\n",
    "  is the space of hyperparameter set we are tuning, and  $f$\n",
    "  is the target function decided based on the criteria on which the hyperparameters needs to be tuned. For a gaussian process,  $p(f|χ)$\n",
    "  follows a normal distribution. In our problem, we define mean accuracy from five fold cross validation as the target function.\n",
    "\n",
    "Acquisition function\n",
    "It is assumed that the function  $f(x)$\n",
    "  is drawn from a gaussain process prior and our observation is of the form  $xi,yi$\n",
    " , where\n",
    "\n",
    "$yi∼N(f(xi),ν)$\n",
    "  ,  ν\n",
    "  is the variance of noise introduced into the function observations.\n",
    "\n",
    "This prior and the data induce a posterior over functions,the acquisition function, $a:χ→R+$\n",
    " , determines what points in  $χ$\n",
    "  to be evaluated next.\n",
    "\n",
    "There are different choices for acquisition functions, mainly\n",
    "\n",
    "1) Upper Confidence Bounds method\n",
    "2) Expected improvement method\n",
    "3) Probability Of Improvement method\n",
    "\n",
    "Acquisiton function follows a greedy approach to find the optimum hyperparameters in each step, and with a fixed step of iteration, we are expected to get the suitable hyperparameters for our model."
   ]
  },
  {
   "cell_type": "code",
   "execution_count": 31,
   "id": "a4f206dc",
   "metadata": {},
   "outputs": [],
   "source": [
    "#importing BO\n",
    "from bayes_opt import BayesianOptimization"
   ]
  },
  {
   "cell_type": "code",
   "execution_count": 32,
   "id": "ca36624d",
   "metadata": {},
   "outputs": [
    {
     "data": {
      "text/plain": [
       "{'bootstrap': True,\n",
       " 'ccp_alpha': 0.0,\n",
       " 'class_weight': None,\n",
       " 'criterion': 'gini',\n",
       " 'max_depth': None,\n",
       " 'max_features': 20,\n",
       " 'max_leaf_nodes': None,\n",
       " 'max_samples': None,\n",
       " 'min_impurity_decrease': 0.0,\n",
       " 'min_samples_leaf': 1,\n",
       " 'min_samples_split': 2,\n",
       " 'min_weight_fraction_leaf': 0.0,\n",
       " 'n_estimators': 3,\n",
       " 'n_jobs': None,\n",
       " 'oob_score': False,\n",
       " 'random_state': 2,\n",
       " 'verbose': 0,\n",
       " 'warm_start': False}"
      ]
     },
     "execution_count": 32,
     "metadata": {},
     "output_type": "execute_result"
    }
   ],
   "source": [
    "# All the tunable parameters for the Random forest\n",
    "rf.get_params()"
   ]
  },
  {
   "cell_type": "code",
   "execution_count": 33,
   "id": "92600e08",
   "metadata": {},
   "outputs": [],
   "source": [
    "# Defining Function for keeping track of the progress during the training"
   ]
  },
  {
   "cell_type": "code",
   "execution_count": 34,
   "id": "66381ba5",
   "metadata": {},
   "outputs": [],
   "source": [
    "def stratified_kfold_score(clf,X,y,n_fold):\n",
    "    X,y = X,y\n",
    "    strat_kfold = StratifiedKFold(n_splits=n_fold, shuffle=True, random_state=1)\n",
    "    accuracy_list = []\n",
    "\n",
    "    for train_index, test_index in strat_kfold.split(X, y):\n",
    "        x_train_fold, x_test_fold = X[train_index], X[test_index]\n",
    "        y_train_fold, y_test_fold = y[train_index], y[test_index]\n",
    "        clf.fit(x_train_fold, y_train_fold)\n",
    "        preds = clf.predict(x_test_fold)\n",
    "        accuracy_test = accuracy_score(preds,y_test_fold)\n",
    "        accuracy_list.append(accuracy_test)\n",
    "\n",
    "    return np.array(accuracy_list).mean()"
   ]
  },
  {
   "cell_type": "code",
   "execution_count": 35,
   "id": "f3031c24",
   "metadata": {},
   "outputs": [],
   "source": [
    "# Function with model parameters For B.O.\n",
    "def bo_params_rf(max_samples,n_estimators,max_features):\n",
    "    \n",
    "    params = {\n",
    "        'max_samples': max_samples,\n",
    "        'max_features':max_features,\n",
    "        'n_estimators':int(n_estimators)\n",
    "    }\n",
    "    clf = RandomForestClassifier(max_samples=params['max_samples'],max_features=params['max_features'],n_estimators=params['n_estimators'])\n",
    "    score = stratified_kfold_score(clf,X_train, y_train,5)\n",
    "    return score"
   ]
  },
  {
   "cell_type": "code",
   "execution_count": 36,
   "id": "a81910d0",
   "metadata": {},
   "outputs": [],
   "source": [
    "rf_bo = BayesianOptimization(bo_params_rf, {\n",
    "                                              'max_samples':(0.5,1),\n",
    "                                                'max_features':(0.5,1),\n",
    "                                              'n_estimators':(3,150)\n",
    "                                             })"
   ]
  },
  {
   "cell_type": "code",
   "execution_count": 37,
   "id": "7723a83b",
   "metadata": {},
   "outputs": [
    {
     "name": "stdout",
     "output_type": "stream",
     "text": [
      "|   iter    |  target   | max_fe... | max_sa... | n_esti... |\n",
      "-------------------------------------------------------------\n"
     ]
    },
    {
     "name": "stderr",
     "output_type": "stream",
     "text": [
      "C:\\Users\\mdibene\\AppData\\Local\\Temp\\ipykernel_1192\\785250422.py:1: DeprecationWarning: \n",
      "Passing acquisition function parameters or gaussian process parameters to maximize\n",
      "is no longer supported, and will cause an error in future releases. Instead,\n",
      "please use the \"set_gp_params\" method to set the gp params, and pass an instance\n",
      " of bayes_opt.util.UtilityFunction using the acquisition_function argument\n",
      "\n",
      "  results = rf_bo.maximize(n_iter=200, init_points=20,acq='ei')\n"
     ]
    },
    {
     "name": "stdout",
     "output_type": "stream",
     "text": [
      "| \u001b[0m1        \u001b[0m | \u001b[0m0.7      \u001b[0m | \u001b[0m0.8155   \u001b[0m | \u001b[0m0.9105   \u001b[0m | \u001b[0m98.78    \u001b[0m |\n",
      "| \u001b[0m2        \u001b[0m | \u001b[0m0.696    \u001b[0m | \u001b[0m0.5465   \u001b[0m | \u001b[0m0.9508   \u001b[0m | \u001b[0m66.77    \u001b[0m |\n",
      "| \u001b[0m3        \u001b[0m | \u001b[0m0.6867   \u001b[0m | \u001b[0m0.7949   \u001b[0m | \u001b[0m0.8079   \u001b[0m | \u001b[0m125.9    \u001b[0m |\n",
      "| \u001b[0m4        \u001b[0m | \u001b[0m0.6813   \u001b[0m | \u001b[0m0.9495   \u001b[0m | \u001b[0m0.5356   \u001b[0m | \u001b[0m27.97    \u001b[0m |\n",
      "| \u001b[0m5        \u001b[0m | \u001b[0m0.6947   \u001b[0m | \u001b[0m0.5078   \u001b[0m | \u001b[0m0.9413   \u001b[0m | \u001b[0m139.0    \u001b[0m |\n",
      "| \u001b[0m6        \u001b[0m | \u001b[0m0.692    \u001b[0m | \u001b[0m0.8533   \u001b[0m | \u001b[0m0.7597   \u001b[0m | \u001b[0m10.54    \u001b[0m |\n",
      "| \u001b[95m7        \u001b[0m | \u001b[95m0.7013   \u001b[0m | \u001b[95m0.501    \u001b[0m | \u001b[95m0.9884   \u001b[0m | \u001b[95m62.2     \u001b[0m |\n",
      "| \u001b[0m8        \u001b[0m | \u001b[0m0.6827   \u001b[0m | \u001b[0m0.8946   \u001b[0m | \u001b[0m0.812    \u001b[0m | \u001b[0m119.9    \u001b[0m |\n",
      "| \u001b[0m9        \u001b[0m | \u001b[0m0.688    \u001b[0m | \u001b[0m0.6142   \u001b[0m | \u001b[0m0.8373   \u001b[0m | \u001b[0m8.414    \u001b[0m |\n",
      "| \u001b[0m10       \u001b[0m | \u001b[0m0.696    \u001b[0m | \u001b[0m0.5863   \u001b[0m | \u001b[0m0.5236   \u001b[0m | \u001b[0m100.7    \u001b[0m |\n",
      "| \u001b[0m11       \u001b[0m | \u001b[0m0.6707   \u001b[0m | \u001b[0m0.836    \u001b[0m | \u001b[0m0.7945   \u001b[0m | \u001b[0m4.21     \u001b[0m |\n",
      "| \u001b[0m12       \u001b[0m | \u001b[0m0.684    \u001b[0m | \u001b[0m0.571    \u001b[0m | \u001b[0m0.9585   \u001b[0m | \u001b[0m149.4    \u001b[0m |\n",
      "| \u001b[0m13       \u001b[0m | \u001b[0m0.7      \u001b[0m | \u001b[0m0.958    \u001b[0m | \u001b[0m0.5602   \u001b[0m | \u001b[0m27.83    \u001b[0m |\n",
      "| \u001b[0m14       \u001b[0m | \u001b[0m0.6987   \u001b[0m | \u001b[0m0.9935   \u001b[0m | \u001b[0m0.6228   \u001b[0m | \u001b[0m22.8     \u001b[0m |\n",
      "| \u001b[0m15       \u001b[0m | \u001b[0m0.696    \u001b[0m | \u001b[0m0.948    \u001b[0m | \u001b[0m0.6993   \u001b[0m | \u001b[0m137.7    \u001b[0m |\n",
      "| \u001b[0m16       \u001b[0m | \u001b[0m0.6853   \u001b[0m | \u001b[0m0.9778   \u001b[0m | \u001b[0m0.9582   \u001b[0m | \u001b[0m105.8    \u001b[0m |\n",
      "| \u001b[0m17       \u001b[0m | \u001b[0m0.6893   \u001b[0m | \u001b[0m0.7619   \u001b[0m | \u001b[0m0.9676   \u001b[0m | \u001b[0m148.1    \u001b[0m |\n",
      "| \u001b[0m18       \u001b[0m | \u001b[0m0.684    \u001b[0m | \u001b[0m0.746    \u001b[0m | \u001b[0m0.6067   \u001b[0m | \u001b[0m8.26     \u001b[0m |\n",
      "| \u001b[0m19       \u001b[0m | \u001b[0m0.696    \u001b[0m | \u001b[0m0.6159   \u001b[0m | \u001b[0m0.8705   \u001b[0m | \u001b[0m18.56    \u001b[0m |\n",
      "| \u001b[0m20       \u001b[0m | \u001b[0m0.688    \u001b[0m | \u001b[0m0.7557   \u001b[0m | \u001b[0m0.9523   \u001b[0m | \u001b[0m141.9    \u001b[0m |\n",
      "| \u001b[0m21       \u001b[0m | \u001b[0m0.6813   \u001b[0m | \u001b[0m0.99     \u001b[0m | \u001b[0m0.9005   \u001b[0m | \u001b[0m114.6    \u001b[0m |\n",
      "| \u001b[0m22       \u001b[0m | \u001b[0m0.6947   \u001b[0m | \u001b[0m0.944    \u001b[0m | \u001b[0m0.9506   \u001b[0m | \u001b[0m116.2    \u001b[0m |\n",
      "| \u001b[0m23       \u001b[0m | \u001b[0m0.66     \u001b[0m | \u001b[0m0.5497   \u001b[0m | \u001b[0m0.7353   \u001b[0m | \u001b[0m5.545    \u001b[0m |\n",
      "| \u001b[0m24       \u001b[0m | \u001b[0m0.688    \u001b[0m | \u001b[0m0.761    \u001b[0m | \u001b[0m0.5936   \u001b[0m | \u001b[0m28.25    \u001b[0m |\n",
      "| \u001b[0m25       \u001b[0m | \u001b[0m0.6827   \u001b[0m | \u001b[0m0.5684   \u001b[0m | \u001b[0m0.8195   \u001b[0m | \u001b[0m38.36    \u001b[0m |\n",
      "| \u001b[0m26       \u001b[0m | \u001b[0m0.688    \u001b[0m | \u001b[0m0.9241   \u001b[0m | \u001b[0m0.791    \u001b[0m | \u001b[0m95.3     \u001b[0m |\n",
      "| \u001b[95m27       \u001b[0m | \u001b[95m0.7053   \u001b[0m | \u001b[95m0.7954   \u001b[0m | \u001b[95m0.567    \u001b[0m | \u001b[95m18.85    \u001b[0m |\n",
      "| \u001b[0m28       \u001b[0m | \u001b[0m0.692    \u001b[0m | \u001b[0m0.7047   \u001b[0m | \u001b[0m0.9486   \u001b[0m | \u001b[0m97.4     \u001b[0m |\n",
      "| \u001b[0m29       \u001b[0m | \u001b[0m0.6827   \u001b[0m | \u001b[0m0.728    \u001b[0m | \u001b[0m0.7763   \u001b[0m | \u001b[0m122.3    \u001b[0m |\n",
      "| \u001b[0m30       \u001b[0m | \u001b[0m0.6853   \u001b[0m | \u001b[0m0.7313   \u001b[0m | \u001b[0m0.5096   \u001b[0m | \u001b[0m56.39    \u001b[0m |\n",
      "| \u001b[0m31       \u001b[0m | \u001b[0m0.6827   \u001b[0m | \u001b[0m0.5393   \u001b[0m | \u001b[0m0.521    \u001b[0m | \u001b[0m39.17    \u001b[0m |\n",
      "| \u001b[0m32       \u001b[0m | \u001b[0m0.696    \u001b[0m | \u001b[0m0.6273   \u001b[0m | \u001b[0m0.8235   \u001b[0m | \u001b[0m13.0     \u001b[0m |\n",
      "| \u001b[0m33       \u001b[0m | \u001b[0m0.704    \u001b[0m | \u001b[0m0.5686   \u001b[0m | \u001b[0m0.8795   \u001b[0m | \u001b[0m22.31    \u001b[0m |\n",
      "| \u001b[0m34       \u001b[0m | \u001b[0m0.6987   \u001b[0m | \u001b[0m0.9011   \u001b[0m | \u001b[0m0.9696   \u001b[0m | \u001b[0m112.5    \u001b[0m |\n",
      "| \u001b[0m35       \u001b[0m | \u001b[0m0.6933   \u001b[0m | \u001b[0m0.8229   \u001b[0m | \u001b[0m0.8776   \u001b[0m | \u001b[0m82.64    \u001b[0m |\n",
      "| \u001b[0m36       \u001b[0m | \u001b[0m0.688    \u001b[0m | \u001b[0m0.7028   \u001b[0m | \u001b[0m0.8452   \u001b[0m | \u001b[0m87.86    \u001b[0m |\n",
      "| \u001b[0m37       \u001b[0m | \u001b[0m0.6773   \u001b[0m | \u001b[0m0.5028   \u001b[0m | \u001b[0m0.891    \u001b[0m | \u001b[0m8.492    \u001b[0m |\n",
      "| \u001b[0m38       \u001b[0m | \u001b[0m0.6827   \u001b[0m | \u001b[0m0.8167   \u001b[0m | \u001b[0m0.519    \u001b[0m | \u001b[0m10.49    \u001b[0m |\n",
      "| \u001b[0m39       \u001b[0m | \u001b[0m0.692    \u001b[0m | \u001b[0m0.5545   \u001b[0m | \u001b[0m0.6332   \u001b[0m | \u001b[0m144.2    \u001b[0m |\n",
      "| \u001b[95m40       \u001b[0m | \u001b[95m0.7147   \u001b[0m | \u001b[95m0.7077   \u001b[0m | \u001b[95m0.5171   \u001b[0m | \u001b[95m100.4    \u001b[0m |\n",
      "| \u001b[0m41       \u001b[0m | \u001b[0m0.6907   \u001b[0m | \u001b[0m0.7017   \u001b[0m | \u001b[0m0.5668   \u001b[0m | \u001b[0m71.47    \u001b[0m |\n",
      "| \u001b[0m42       \u001b[0m | \u001b[0m0.6813   \u001b[0m | \u001b[0m0.768    \u001b[0m | \u001b[0m0.8178   \u001b[0m | \u001b[0m60.72    \u001b[0m |\n",
      "| \u001b[0m43       \u001b[0m | \u001b[0m0.7      \u001b[0m | \u001b[0m0.8638   \u001b[0m | \u001b[0m0.9191   \u001b[0m | \u001b[0m130.5    \u001b[0m |\n",
      "| \u001b[0m44       \u001b[0m | \u001b[0m0.6867   \u001b[0m | \u001b[0m0.6759   \u001b[0m | \u001b[0m0.6764   \u001b[0m | \u001b[0m97.22    \u001b[0m |\n",
      "| \u001b[0m45       \u001b[0m | \u001b[0m0.6813   \u001b[0m | \u001b[0m0.5722   \u001b[0m | \u001b[0m1.0      \u001b[0m | \u001b[0m28.19    \u001b[0m |\n",
      "| \u001b[0m46       \u001b[0m | \u001b[0m0.6987   \u001b[0m | \u001b[0m0.9365   \u001b[0m | \u001b[0m0.6489   \u001b[0m | \u001b[0m81.8     \u001b[0m |\n",
      "| \u001b[0m47       \u001b[0m | \u001b[0m0.6893   \u001b[0m | \u001b[0m0.7649   \u001b[0m | \u001b[0m0.7842   \u001b[0m | \u001b[0m28.41    \u001b[0m |\n",
      "| \u001b[0m48       \u001b[0m | \u001b[0m0.692    \u001b[0m | \u001b[0m0.9347   \u001b[0m | \u001b[0m0.6628   \u001b[0m | \u001b[0m53.56    \u001b[0m |\n",
      "| \u001b[0m49       \u001b[0m | \u001b[0m0.6947   \u001b[0m | \u001b[0m0.544    \u001b[0m | \u001b[0m0.9879   \u001b[0m | \u001b[0m30.24    \u001b[0m |\n",
      "| \u001b[0m50       \u001b[0m | \u001b[0m0.684    \u001b[0m | \u001b[0m0.9539   \u001b[0m | \u001b[0m0.9216   \u001b[0m | \u001b[0m77.91    \u001b[0m |\n",
      "| \u001b[0m51       \u001b[0m | \u001b[0m0.6973   \u001b[0m | \u001b[0m0.962    \u001b[0m | \u001b[0m0.7171   \u001b[0m | \u001b[0m92.61    \u001b[0m |\n",
      "| \u001b[0m52       \u001b[0m | \u001b[0m0.6947   \u001b[0m | \u001b[0m0.5656   \u001b[0m | \u001b[0m0.5917   \u001b[0m | \u001b[0m104.4    \u001b[0m |\n",
      "| \u001b[0m53       \u001b[0m | \u001b[0m0.6933   \u001b[0m | \u001b[0m0.6179   \u001b[0m | \u001b[0m0.5734   \u001b[0m | \u001b[0m113.5    \u001b[0m |\n",
      "| \u001b[0m54       \u001b[0m | \u001b[0m0.6787   \u001b[0m | \u001b[0m0.6352   \u001b[0m | \u001b[0m0.7442   \u001b[0m | \u001b[0m128.2    \u001b[0m |\n",
      "| \u001b[0m55       \u001b[0m | \u001b[0m0.688    \u001b[0m | \u001b[0m0.8266   \u001b[0m | \u001b[0m0.7549   \u001b[0m | \u001b[0m141.8    \u001b[0m |\n",
      "| \u001b[0m56       \u001b[0m | \u001b[0m0.676    \u001b[0m | \u001b[0m0.8299   \u001b[0m | \u001b[0m0.9267   \u001b[0m | \u001b[0m79.82    \u001b[0m |\n",
      "| \u001b[0m57       \u001b[0m | \u001b[0m0.672    \u001b[0m | \u001b[0m0.6569   \u001b[0m | \u001b[0m0.9915   \u001b[0m | \u001b[0m10.48    \u001b[0m |\n",
      "| \u001b[0m58       \u001b[0m | \u001b[0m0.6853   \u001b[0m | \u001b[0m0.794    \u001b[0m | \u001b[0m0.8879   \u001b[0m | \u001b[0m134.3    \u001b[0m |\n",
      "| \u001b[0m59       \u001b[0m | \u001b[0m0.6853   \u001b[0m | \u001b[0m0.9098   \u001b[0m | \u001b[0m0.9307   \u001b[0m | \u001b[0m134.8    \u001b[0m |\n",
      "| \u001b[0m60       \u001b[0m | \u001b[0m0.7      \u001b[0m | \u001b[0m0.6371   \u001b[0m | \u001b[0m0.9144   \u001b[0m | \u001b[0m12.52    \u001b[0m |\n",
      "| \u001b[0m61       \u001b[0m | \u001b[0m0.6867   \u001b[0m | \u001b[0m0.8364   \u001b[0m | \u001b[0m0.7484   \u001b[0m | \u001b[0m82.57    \u001b[0m |\n",
      "| \u001b[0m62       \u001b[0m | \u001b[0m0.692    \u001b[0m | \u001b[0m0.9992   \u001b[0m | \u001b[0m0.8021   \u001b[0m | \u001b[0m126.5    \u001b[0m |\n",
      "| \u001b[0m63       \u001b[0m | \u001b[0m0.684    \u001b[0m | \u001b[0m0.9878   \u001b[0m | \u001b[0m0.9592   \u001b[0m | \u001b[0m119.8    \u001b[0m |\n",
      "| \u001b[0m64       \u001b[0m | \u001b[0m0.676    \u001b[0m | \u001b[0m0.5034   \u001b[0m | \u001b[0m0.9921   \u001b[0m | \u001b[0m93.51    \u001b[0m |\n",
      "| \u001b[0m65       \u001b[0m | \u001b[0m0.6933   \u001b[0m | \u001b[0m0.7429   \u001b[0m | \u001b[0m0.7425   \u001b[0m | \u001b[0m124.7    \u001b[0m |\n",
      "| \u001b[0m66       \u001b[0m | \u001b[0m0.6973   \u001b[0m | \u001b[0m0.7492   \u001b[0m | \u001b[0m0.809    \u001b[0m | \u001b[0m31.55    \u001b[0m |\n",
      "| \u001b[0m67       \u001b[0m | \u001b[0m0.6667   \u001b[0m | \u001b[0m0.954    \u001b[0m | \u001b[0m0.534    \u001b[0m | \u001b[0m4.61     \u001b[0m |\n",
      "| \u001b[0m68       \u001b[0m | \u001b[0m0.6693   \u001b[0m | \u001b[0m0.5844   \u001b[0m | \u001b[0m0.5726   \u001b[0m | \u001b[0m4.825    \u001b[0m |\n",
      "| \u001b[0m69       \u001b[0m | \u001b[0m0.684    \u001b[0m | \u001b[0m0.9897   \u001b[0m | \u001b[0m0.5793   \u001b[0m | \u001b[0m64.01    \u001b[0m |\n",
      "| \u001b[0m70       \u001b[0m | \u001b[0m0.688    \u001b[0m | \u001b[0m0.6917   \u001b[0m | \u001b[0m0.5142   \u001b[0m | \u001b[0m78.08    \u001b[0m |\n",
      "| \u001b[0m71       \u001b[0m | \u001b[0m0.6907   \u001b[0m | \u001b[0m0.5337   \u001b[0m | \u001b[0m0.7296   \u001b[0m | \u001b[0m79.77    \u001b[0m |\n",
      "| \u001b[0m72       \u001b[0m | \u001b[0m0.6987   \u001b[0m | \u001b[0m0.5623   \u001b[0m | \u001b[0m0.8532   \u001b[0m | \u001b[0m99.31    \u001b[0m |\n",
      "| \u001b[0m73       \u001b[0m | \u001b[0m0.6893   \u001b[0m | \u001b[0m0.6635   \u001b[0m | \u001b[0m0.9791   \u001b[0m | \u001b[0m96.71    \u001b[0m |\n",
      "| \u001b[0m74       \u001b[0m | \u001b[0m0.7027   \u001b[0m | \u001b[0m0.7985   \u001b[0m | \u001b[0m0.6633   \u001b[0m | \u001b[0m20.3     \u001b[0m |\n",
      "| \u001b[0m75       \u001b[0m | \u001b[0m0.6933   \u001b[0m | \u001b[0m0.9941   \u001b[0m | \u001b[0m0.5136   \u001b[0m | \u001b[0m62.58    \u001b[0m |\n",
      "| \u001b[0m76       \u001b[0m | \u001b[0m0.692    \u001b[0m | \u001b[0m0.5306   \u001b[0m | \u001b[0m0.7553   \u001b[0m | \u001b[0m123.0    \u001b[0m |\n",
      "| \u001b[0m77       \u001b[0m | \u001b[0m0.6987   \u001b[0m | \u001b[0m0.6007   \u001b[0m | \u001b[0m0.7477   \u001b[0m | \u001b[0m42.14    \u001b[0m |\n",
      "| \u001b[0m78       \u001b[0m | \u001b[0m0.6907   \u001b[0m | \u001b[0m0.5008   \u001b[0m | \u001b[0m0.9346   \u001b[0m | \u001b[0m102.9    \u001b[0m |\n",
      "| \u001b[0m79       \u001b[0m | \u001b[0m0.6907   \u001b[0m | \u001b[0m0.6226   \u001b[0m | \u001b[0m0.5174   \u001b[0m | \u001b[0m80.74    \u001b[0m |\n",
      "| \u001b[0m80       \u001b[0m | \u001b[0m0.6973   \u001b[0m | \u001b[0m0.6728   \u001b[0m | \u001b[0m0.9031   \u001b[0m | \u001b[0m104.1    \u001b[0m |\n",
      "| \u001b[0m81       \u001b[0m | \u001b[0m0.6947   \u001b[0m | \u001b[0m0.657    \u001b[0m | \u001b[0m0.9216   \u001b[0m | \u001b[0m89.06    \u001b[0m |\n"
     ]
    },
    {
     "name": "stdout",
     "output_type": "stream",
     "text": [
      "| \u001b[0m82       \u001b[0m | \u001b[0m0.6733   \u001b[0m | \u001b[0m0.5096   \u001b[0m | \u001b[0m0.7912   \u001b[0m | \u001b[0m49.77    \u001b[0m |\n",
      "| \u001b[0m83       \u001b[0m | \u001b[0m0.6973   \u001b[0m | \u001b[0m0.835    \u001b[0m | \u001b[0m0.8286   \u001b[0m | \u001b[0m98.75    \u001b[0m |\n",
      "| \u001b[0m84       \u001b[0m | \u001b[0m0.684    \u001b[0m | \u001b[0m0.7891   \u001b[0m | \u001b[0m0.5509   \u001b[0m | \u001b[0m100.4    \u001b[0m |\n",
      "| \u001b[0m85       \u001b[0m | \u001b[0m0.6893   \u001b[0m | \u001b[0m0.9137   \u001b[0m | \u001b[0m0.5915   \u001b[0m | \u001b[0m48.26    \u001b[0m |\n",
      "| \u001b[0m86       \u001b[0m | \u001b[0m0.6987   \u001b[0m | \u001b[0m0.703    \u001b[0m | \u001b[0m0.7572   \u001b[0m | \u001b[0m78.08    \u001b[0m |\n",
      "| \u001b[0m87       \u001b[0m | \u001b[0m0.68     \u001b[0m | \u001b[0m0.9804   \u001b[0m | \u001b[0m0.9642   \u001b[0m | \u001b[0m102.2    \u001b[0m |\n",
      "| \u001b[0m88       \u001b[0m | \u001b[0m0.672    \u001b[0m | \u001b[0m0.5514   \u001b[0m | \u001b[0m0.9091   \u001b[0m | \u001b[0m7.657    \u001b[0m |\n",
      "| \u001b[0m89       \u001b[0m | \u001b[0m0.6947   \u001b[0m | \u001b[0m0.5519   \u001b[0m | \u001b[0m0.9011   \u001b[0m | \u001b[0m73.53    \u001b[0m |\n",
      "| \u001b[0m90       \u001b[0m | \u001b[0m0.684    \u001b[0m | \u001b[0m0.6975   \u001b[0m | \u001b[0m0.8843   \u001b[0m | \u001b[0m139.9    \u001b[0m |\n",
      "| \u001b[0m91       \u001b[0m | \u001b[0m0.7067   \u001b[0m | \u001b[0m0.7621   \u001b[0m | \u001b[0m0.6315   \u001b[0m | \u001b[0m54.88    \u001b[0m |\n",
      "| \u001b[0m92       \u001b[0m | \u001b[0m0.6907   \u001b[0m | \u001b[0m0.8482   \u001b[0m | \u001b[0m0.5758   \u001b[0m | \u001b[0m140.5    \u001b[0m |\n",
      "| \u001b[0m93       \u001b[0m | \u001b[0m0.704    \u001b[0m | \u001b[0m0.5561   \u001b[0m | \u001b[0m0.991    \u001b[0m | \u001b[0m13.4     \u001b[0m |\n",
      "| \u001b[0m94       \u001b[0m | \u001b[0m0.692    \u001b[0m | \u001b[0m0.9099   \u001b[0m | \u001b[0m0.6465   \u001b[0m | \u001b[0m112.0    \u001b[0m |\n",
      "| \u001b[0m95       \u001b[0m | \u001b[0m0.704    \u001b[0m | \u001b[0m0.5157   \u001b[0m | \u001b[0m0.8384   \u001b[0m | \u001b[0m6.089    \u001b[0m |\n",
      "| \u001b[0m96       \u001b[0m | \u001b[0m0.692    \u001b[0m | \u001b[0m0.7153   \u001b[0m | \u001b[0m0.8215   \u001b[0m | \u001b[0m42.5     \u001b[0m |\n",
      "| \u001b[0m97       \u001b[0m | \u001b[0m0.6893   \u001b[0m | \u001b[0m0.9786   \u001b[0m | \u001b[0m0.8183   \u001b[0m | \u001b[0m46.53    \u001b[0m |\n",
      "| \u001b[0m98       \u001b[0m | \u001b[0m0.6853   \u001b[0m | \u001b[0m0.58     \u001b[0m | \u001b[0m0.9417   \u001b[0m | \u001b[0m100.6    \u001b[0m |\n",
      "| \u001b[0m99       \u001b[0m | \u001b[0m0.672    \u001b[0m | \u001b[0m0.6981   \u001b[0m | \u001b[0m0.8723   \u001b[0m | \u001b[0m4.06     \u001b[0m |\n",
      "| \u001b[0m100      \u001b[0m | \u001b[0m0.6947   \u001b[0m | \u001b[0m0.8081   \u001b[0m | \u001b[0m0.9442   \u001b[0m | \u001b[0m43.84    \u001b[0m |\n",
      "| \u001b[0m101      \u001b[0m | \u001b[0m0.6947   \u001b[0m | \u001b[0m0.9461   \u001b[0m | \u001b[0m0.5409   \u001b[0m | \u001b[0m132.8    \u001b[0m |\n",
      "| \u001b[0m102      \u001b[0m | \u001b[0m0.7107   \u001b[0m | \u001b[0m0.5189   \u001b[0m | \u001b[0m0.5529   \u001b[0m | \u001b[0m40.17    \u001b[0m |\n",
      "| \u001b[0m103      \u001b[0m | \u001b[0m0.696    \u001b[0m | \u001b[0m0.7037   \u001b[0m | \u001b[0m0.9485   \u001b[0m | \u001b[0m32.28    \u001b[0m |\n",
      "| \u001b[0m104      \u001b[0m | \u001b[0m0.688    \u001b[0m | \u001b[0m0.971    \u001b[0m | \u001b[0m0.9495   \u001b[0m | \u001b[0m66.77    \u001b[0m |\n",
      "| \u001b[0m105      \u001b[0m | \u001b[0m0.6987   \u001b[0m | \u001b[0m0.8983   \u001b[0m | \u001b[0m0.7623   \u001b[0m | \u001b[0m46.96    \u001b[0m |\n",
      "| \u001b[0m106      \u001b[0m | \u001b[0m0.6907   \u001b[0m | \u001b[0m0.7361   \u001b[0m | \u001b[0m0.9582   \u001b[0m | \u001b[0m127.0    \u001b[0m |\n",
      "| \u001b[0m107      \u001b[0m | \u001b[0m0.6773   \u001b[0m | \u001b[0m0.7208   \u001b[0m | \u001b[0m0.6308   \u001b[0m | \u001b[0m37.16    \u001b[0m |\n",
      "| \u001b[0m108      \u001b[0m | \u001b[0m0.6853   \u001b[0m | \u001b[0m0.5647   \u001b[0m | \u001b[0m0.6147   \u001b[0m | \u001b[0m104.6    \u001b[0m |\n",
      "| \u001b[0m109      \u001b[0m | \u001b[0m0.6947   \u001b[0m | \u001b[0m0.9737   \u001b[0m | \u001b[0m0.7457   \u001b[0m | \u001b[0m59.61    \u001b[0m |\n",
      "| \u001b[0m110      \u001b[0m | \u001b[0m0.688    \u001b[0m | \u001b[0m0.5106   \u001b[0m | \u001b[0m0.6894   \u001b[0m | \u001b[0m99.22    \u001b[0m |\n",
      "| \u001b[0m111      \u001b[0m | \u001b[0m0.672    \u001b[0m | \u001b[0m0.5158   \u001b[0m | \u001b[0m0.6353   \u001b[0m | \u001b[0m7.968    \u001b[0m |\n",
      "| \u001b[0m112      \u001b[0m | \u001b[0m0.692    \u001b[0m | \u001b[0m0.6442   \u001b[0m | \u001b[0m0.7905   \u001b[0m | \u001b[0m67.95    \u001b[0m |\n",
      "| \u001b[0m113      \u001b[0m | \u001b[0m0.684    \u001b[0m | \u001b[0m0.9098   \u001b[0m | \u001b[0m0.983    \u001b[0m | \u001b[0m68.12    \u001b[0m |\n",
      "| \u001b[0m114      \u001b[0m | \u001b[0m0.6947   \u001b[0m | \u001b[0m0.7944   \u001b[0m | \u001b[0m0.8903   \u001b[0m | \u001b[0m133.7    \u001b[0m |\n",
      "| \u001b[0m115      \u001b[0m | \u001b[0m0.6987   \u001b[0m | \u001b[0m0.6362   \u001b[0m | \u001b[0m0.7345   \u001b[0m | \u001b[0m114.4    \u001b[0m |\n",
      "| \u001b[0m116      \u001b[0m | \u001b[0m0.6933   \u001b[0m | \u001b[0m0.5374   \u001b[0m | \u001b[0m0.5359   \u001b[0m | \u001b[0m103.1    \u001b[0m |\n",
      "| \u001b[0m117      \u001b[0m | \u001b[0m0.7067   \u001b[0m | \u001b[0m0.6386   \u001b[0m | \u001b[0m0.5264   \u001b[0m | \u001b[0m53.16    \u001b[0m |\n",
      "| \u001b[0m118      \u001b[0m | \u001b[0m0.6907   \u001b[0m | \u001b[0m0.586    \u001b[0m | \u001b[0m0.7842   \u001b[0m | \u001b[0m103.9    \u001b[0m |\n",
      "| \u001b[0m119      \u001b[0m | \u001b[0m0.6933   \u001b[0m | \u001b[0m0.5333   \u001b[0m | \u001b[0m0.7044   \u001b[0m | \u001b[0m24.83    \u001b[0m |\n",
      "| \u001b[0m120      \u001b[0m | \u001b[0m0.6947   \u001b[0m | \u001b[0m0.9552   \u001b[0m | \u001b[0m0.8905   \u001b[0m | \u001b[0m122.8    \u001b[0m |\n",
      "| \u001b[0m121      \u001b[0m | \u001b[0m0.6973   \u001b[0m | \u001b[0m0.8956   \u001b[0m | \u001b[0m0.6135   \u001b[0m | \u001b[0m96.49    \u001b[0m |\n",
      "| \u001b[0m122      \u001b[0m | \u001b[0m0.6907   \u001b[0m | \u001b[0m0.8415   \u001b[0m | \u001b[0m0.8163   \u001b[0m | \u001b[0m95.12    \u001b[0m |\n",
      "| \u001b[0m123      \u001b[0m | \u001b[0m0.6933   \u001b[0m | \u001b[0m0.7769   \u001b[0m | \u001b[0m0.7218   \u001b[0m | \u001b[0m31.39    \u001b[0m |\n",
      "| \u001b[0m124      \u001b[0m | \u001b[0m0.6867   \u001b[0m | \u001b[0m0.7698   \u001b[0m | \u001b[0m0.8525   \u001b[0m | \u001b[0m46.03    \u001b[0m |\n",
      "| \u001b[0m125      \u001b[0m | \u001b[0m0.7      \u001b[0m | \u001b[0m0.5855   \u001b[0m | \u001b[0m0.5577   \u001b[0m | \u001b[0m140.7    \u001b[0m |\n",
      "| \u001b[0m126      \u001b[0m | \u001b[0m0.6867   \u001b[0m | \u001b[0m0.8045   \u001b[0m | \u001b[0m0.9099   \u001b[0m | \u001b[0m35.95    \u001b[0m |\n",
      "| \u001b[0m127      \u001b[0m | \u001b[0m0.6947   \u001b[0m | \u001b[0m0.9215   \u001b[0m | \u001b[0m0.7784   \u001b[0m | \u001b[0m78.31    \u001b[0m |\n",
      "| \u001b[0m128      \u001b[0m | \u001b[0m0.6853   \u001b[0m | \u001b[0m0.9842   \u001b[0m | \u001b[0m0.8455   \u001b[0m | \u001b[0m35.73    \u001b[0m |\n",
      "| \u001b[0m129      \u001b[0m | \u001b[0m0.688    \u001b[0m | \u001b[0m0.7023   \u001b[0m | \u001b[0m0.6246   \u001b[0m | \u001b[0m77.83    \u001b[0m |\n",
      "| \u001b[0m130      \u001b[0m | \u001b[0m0.6907   \u001b[0m | \u001b[0m0.8558   \u001b[0m | \u001b[0m0.8117   \u001b[0m | \u001b[0m85.26    \u001b[0m |\n",
      "| \u001b[0m131      \u001b[0m | \u001b[0m0.6853   \u001b[0m | \u001b[0m0.8376   \u001b[0m | \u001b[0m0.8547   \u001b[0m | \u001b[0m62.94    \u001b[0m |\n",
      "| \u001b[0m132      \u001b[0m | \u001b[0m0.6893   \u001b[0m | \u001b[0m0.9419   \u001b[0m | \u001b[0m0.9561   \u001b[0m | \u001b[0m73.25    \u001b[0m |\n",
      "| \u001b[0m133      \u001b[0m | \u001b[0m0.6907   \u001b[0m | \u001b[0m0.9771   \u001b[0m | \u001b[0m0.8608   \u001b[0m | \u001b[0m139.6    \u001b[0m |\n",
      "| \u001b[0m134      \u001b[0m | \u001b[0m0.688    \u001b[0m | \u001b[0m0.6451   \u001b[0m | \u001b[0m0.7058   \u001b[0m | \u001b[0m57.75    \u001b[0m |\n",
      "| \u001b[0m135      \u001b[0m | \u001b[0m0.6933   \u001b[0m | \u001b[0m0.7582   \u001b[0m | \u001b[0m0.5115   \u001b[0m | \u001b[0m73.38    \u001b[0m |\n",
      "| \u001b[0m136      \u001b[0m | \u001b[0m0.6853   \u001b[0m | \u001b[0m0.659    \u001b[0m | \u001b[0m0.8349   \u001b[0m | \u001b[0m127.4    \u001b[0m |\n",
      "| \u001b[0m137      \u001b[0m | \u001b[0m0.704    \u001b[0m | \u001b[0m0.7339   \u001b[0m | \u001b[0m0.9757   \u001b[0m | \u001b[0m28.51    \u001b[0m |\n",
      "| \u001b[0m138      \u001b[0m | \u001b[0m0.6893   \u001b[0m | \u001b[0m0.8934   \u001b[0m | \u001b[0m0.9171   \u001b[0m | \u001b[0m91.83    \u001b[0m |\n",
      "| \u001b[0m139      \u001b[0m | \u001b[0m0.688    \u001b[0m | \u001b[0m0.9893   \u001b[0m | \u001b[0m0.8797   \u001b[0m | \u001b[0m52.86    \u001b[0m |\n",
      "| \u001b[0m140      \u001b[0m | \u001b[0m0.6893   \u001b[0m | \u001b[0m0.8243   \u001b[0m | \u001b[0m0.6616   \u001b[0m | \u001b[0m95.88    \u001b[0m |\n",
      "| \u001b[0m141      \u001b[0m | \u001b[0m0.712    \u001b[0m | \u001b[0m0.6749   \u001b[0m | \u001b[0m0.6464   \u001b[0m | \u001b[0m22.17    \u001b[0m |\n",
      "| \u001b[0m142      \u001b[0m | \u001b[0m0.6893   \u001b[0m | \u001b[0m0.6236   \u001b[0m | \u001b[0m0.9017   \u001b[0m | \u001b[0m16.22    \u001b[0m |\n",
      "| \u001b[0m143      \u001b[0m | \u001b[0m0.6933   \u001b[0m | \u001b[0m0.8546   \u001b[0m | \u001b[0m0.7672   \u001b[0m | \u001b[0m88.84    \u001b[0m |\n",
      "| \u001b[0m144      \u001b[0m | \u001b[0m0.7      \u001b[0m | \u001b[0m0.5758   \u001b[0m | \u001b[0m0.7244   \u001b[0m | \u001b[0m28.63    \u001b[0m |\n",
      "| \u001b[0m145      \u001b[0m | \u001b[0m0.7013   \u001b[0m | \u001b[0m0.7318   \u001b[0m | \u001b[0m0.7451   \u001b[0m | \u001b[0m103.0    \u001b[0m |\n",
      "| \u001b[0m146      \u001b[0m | \u001b[0m0.6867   \u001b[0m | \u001b[0m0.526    \u001b[0m | \u001b[0m0.5516   \u001b[0m | \u001b[0m121.0    \u001b[0m |\n",
      "| \u001b[0m147      \u001b[0m | \u001b[0m0.7027   \u001b[0m | \u001b[0m0.936    \u001b[0m | \u001b[0m0.6153   \u001b[0m | \u001b[0m32.95    \u001b[0m |\n",
      "| \u001b[0m148      \u001b[0m | \u001b[0m0.6893   \u001b[0m | \u001b[0m0.5224   \u001b[0m | \u001b[0m0.7317   \u001b[0m | \u001b[0m104.0    \u001b[0m |\n",
      "| \u001b[0m149      \u001b[0m | \u001b[0m0.696    \u001b[0m | \u001b[0m0.5788   \u001b[0m | \u001b[0m0.9867   \u001b[0m | \u001b[0m109.8    \u001b[0m |\n",
      "| \u001b[0m150      \u001b[0m | \u001b[0m0.7013   \u001b[0m | \u001b[0m0.5871   \u001b[0m | \u001b[0m0.8425   \u001b[0m | \u001b[0m121.1    \u001b[0m |\n",
      "| \u001b[0m151      \u001b[0m | \u001b[0m0.6973   \u001b[0m | \u001b[0m0.8643   \u001b[0m | \u001b[0m0.9708   \u001b[0m | \u001b[0m45.34    \u001b[0m |\n",
      "| \u001b[0m152      \u001b[0m | \u001b[0m0.7053   \u001b[0m | \u001b[0m0.9921   \u001b[0m | \u001b[0m0.6327   \u001b[0m | \u001b[0m42.01    \u001b[0m |\n",
      "| \u001b[0m153      \u001b[0m | \u001b[0m0.684    \u001b[0m | \u001b[0m0.6107   \u001b[0m | \u001b[0m0.5298   \u001b[0m | \u001b[0m99.79    \u001b[0m |\n",
      "| \u001b[0m154      \u001b[0m | \u001b[0m0.704    \u001b[0m | \u001b[0m0.7239   \u001b[0m | \u001b[0m0.5634   \u001b[0m | \u001b[0m84.53    \u001b[0m |\n",
      "| \u001b[0m155      \u001b[0m | \u001b[0m0.6907   \u001b[0m | \u001b[0m0.8081   \u001b[0m | \u001b[0m0.6126   \u001b[0m | \u001b[0m148.3    \u001b[0m |\n",
      "| \u001b[0m156      \u001b[0m | \u001b[0m0.688    \u001b[0m | \u001b[0m0.8913   \u001b[0m | \u001b[0m0.7276   \u001b[0m | \u001b[0m141.3    \u001b[0m |\n",
      "| \u001b[0m157      \u001b[0m | \u001b[0m0.6827   \u001b[0m | \u001b[0m0.5098   \u001b[0m | \u001b[0m0.9555   \u001b[0m | \u001b[0m117.8    \u001b[0m |\n",
      "| \u001b[0m158      \u001b[0m | \u001b[0m0.6867   \u001b[0m | \u001b[0m0.9573   \u001b[0m | \u001b[0m0.8135   \u001b[0m | \u001b[0m73.47    \u001b[0m |\n",
      "| \u001b[0m159      \u001b[0m | \u001b[0m0.688    \u001b[0m | \u001b[0m0.6115   \u001b[0m | \u001b[0m0.7527   \u001b[0m | \u001b[0m59.98    \u001b[0m |\n",
      "| \u001b[0m160      \u001b[0m | \u001b[0m0.7027   \u001b[0m | \u001b[0m0.5629   \u001b[0m | \u001b[0m0.9233   \u001b[0m | \u001b[0m45.84    \u001b[0m |\n",
      "| \u001b[0m161      \u001b[0m | \u001b[0m0.6973   \u001b[0m | \u001b[0m0.8177   \u001b[0m | \u001b[0m0.7116   \u001b[0m | \u001b[0m121.0    \u001b[0m |\n",
      "| \u001b[0m162      \u001b[0m | \u001b[0m0.6907   \u001b[0m | \u001b[0m0.89     \u001b[0m | \u001b[0m0.5502   \u001b[0m | \u001b[0m116.4    \u001b[0m |\n"
     ]
    },
    {
     "name": "stdout",
     "output_type": "stream",
     "text": [
      "| \u001b[0m163      \u001b[0m | \u001b[0m0.696    \u001b[0m | \u001b[0m0.6342   \u001b[0m | \u001b[0m0.6488   \u001b[0m | \u001b[0m148.0    \u001b[0m |\n",
      "| \u001b[0m164      \u001b[0m | \u001b[0m0.692    \u001b[0m | \u001b[0m0.7378   \u001b[0m | \u001b[0m0.5752   \u001b[0m | \u001b[0m27.46    \u001b[0m |\n",
      "| \u001b[0m165      \u001b[0m | \u001b[0m0.6867   \u001b[0m | \u001b[0m0.6235   \u001b[0m | \u001b[0m0.5736   \u001b[0m | \u001b[0m127.5    \u001b[0m |\n",
      "| \u001b[0m166      \u001b[0m | \u001b[0m0.6947   \u001b[0m | \u001b[0m0.6848   \u001b[0m | \u001b[0m0.5591   \u001b[0m | \u001b[0m52.99    \u001b[0m |\n",
      "| \u001b[0m167      \u001b[0m | \u001b[0m0.6813   \u001b[0m | \u001b[0m0.5696   \u001b[0m | \u001b[0m0.9979   \u001b[0m | \u001b[0m9.632    \u001b[0m |\n",
      "| \u001b[0m168      \u001b[0m | \u001b[0m0.68     \u001b[0m | \u001b[0m0.6103   \u001b[0m | \u001b[0m0.8396   \u001b[0m | \u001b[0m45.42    \u001b[0m |\n",
      "| \u001b[0m169      \u001b[0m | \u001b[0m0.688    \u001b[0m | \u001b[0m0.9754   \u001b[0m | \u001b[0m0.5094   \u001b[0m | \u001b[0m19.32    \u001b[0m |\n",
      "| \u001b[0m170      \u001b[0m | \u001b[0m0.696    \u001b[0m | \u001b[0m0.6346   \u001b[0m | \u001b[0m0.6005   \u001b[0m | \u001b[0m36.15    \u001b[0m |\n",
      "| \u001b[0m171      \u001b[0m | \u001b[0m0.6813   \u001b[0m | \u001b[0m0.7504   \u001b[0m | \u001b[0m0.6849   \u001b[0m | \u001b[0m63.57    \u001b[0m |\n",
      "| \u001b[0m172      \u001b[0m | \u001b[0m0.684    \u001b[0m | \u001b[0m0.9496   \u001b[0m | \u001b[0m0.6212   \u001b[0m | \u001b[0m100.1    \u001b[0m |\n",
      "| \u001b[0m173      \u001b[0m | \u001b[0m0.6827   \u001b[0m | \u001b[0m0.7679   \u001b[0m | \u001b[0m0.7411   \u001b[0m | \u001b[0m135.4    \u001b[0m |\n",
      "| \u001b[0m174      \u001b[0m | \u001b[0m0.6907   \u001b[0m | \u001b[0m0.8896   \u001b[0m | \u001b[0m0.5829   \u001b[0m | \u001b[0m149.8    \u001b[0m |\n",
      "| \u001b[0m175      \u001b[0m | \u001b[0m0.6827   \u001b[0m | \u001b[0m0.9714   \u001b[0m | \u001b[0m0.8318   \u001b[0m | \u001b[0m37.74    \u001b[0m |\n",
      "| \u001b[0m176      \u001b[0m | \u001b[0m0.6813   \u001b[0m | \u001b[0m0.7428   \u001b[0m | \u001b[0m0.846    \u001b[0m | \u001b[0m52.25    \u001b[0m |\n",
      "| \u001b[0m177      \u001b[0m | \u001b[0m0.6947   \u001b[0m | \u001b[0m0.8873   \u001b[0m | \u001b[0m0.8075   \u001b[0m | \u001b[0m31.86    \u001b[0m |\n",
      "| \u001b[0m178      \u001b[0m | \u001b[0m0.696    \u001b[0m | \u001b[0m0.7823   \u001b[0m | \u001b[0m0.7809   \u001b[0m | \u001b[0m30.97    \u001b[0m |\n",
      "| \u001b[0m179      \u001b[0m | \u001b[0m0.6733   \u001b[0m | \u001b[0m0.9937   \u001b[0m | \u001b[0m0.8116   \u001b[0m | \u001b[0m21.71    \u001b[0m |\n",
      "| \u001b[0m180      \u001b[0m | \u001b[0m0.7107   \u001b[0m | \u001b[0m0.8919   \u001b[0m | \u001b[0m0.7695   \u001b[0m | \u001b[0m62.19    \u001b[0m |\n",
      "| \u001b[0m181      \u001b[0m | \u001b[0m0.6973   \u001b[0m | \u001b[0m0.9936   \u001b[0m | \u001b[0m0.5605   \u001b[0m | \u001b[0m71.9     \u001b[0m |\n",
      "| \u001b[0m182      \u001b[0m | \u001b[0m0.6853   \u001b[0m | \u001b[0m0.9366   \u001b[0m | \u001b[0m0.9936   \u001b[0m | \u001b[0m122.3    \u001b[0m |\n",
      "| \u001b[0m183      \u001b[0m | \u001b[0m0.6947   \u001b[0m | \u001b[0m0.5682   \u001b[0m | \u001b[0m0.5612   \u001b[0m | \u001b[0m81.64    \u001b[0m |\n",
      "| \u001b[0m184      \u001b[0m | \u001b[0m0.684    \u001b[0m | \u001b[0m0.6518   \u001b[0m | \u001b[0m0.8351   \u001b[0m | \u001b[0m90.2     \u001b[0m |\n",
      "| \u001b[0m185      \u001b[0m | \u001b[0m0.7053   \u001b[0m | \u001b[0m0.6634   \u001b[0m | \u001b[0m0.753    \u001b[0m | \u001b[0m20.01    \u001b[0m |\n",
      "| \u001b[0m186      \u001b[0m | \u001b[0m0.6933   \u001b[0m | \u001b[0m0.6274   \u001b[0m | \u001b[0m0.9835   \u001b[0m | \u001b[0m137.7    \u001b[0m |\n",
      "| \u001b[0m187      \u001b[0m | \u001b[0m0.692    \u001b[0m | \u001b[0m0.7671   \u001b[0m | \u001b[0m0.8612   \u001b[0m | \u001b[0m84.55    \u001b[0m |\n",
      "| \u001b[0m188      \u001b[0m | \u001b[0m0.6893   \u001b[0m | \u001b[0m0.8184   \u001b[0m | \u001b[0m0.6007   \u001b[0m | \u001b[0m31.41    \u001b[0m |\n",
      "| \u001b[0m189      \u001b[0m | \u001b[0m0.6867   \u001b[0m | \u001b[0m0.5025   \u001b[0m | \u001b[0m0.8053   \u001b[0m | \u001b[0m137.1    \u001b[0m |\n",
      "| \u001b[0m190      \u001b[0m | \u001b[0m0.6893   \u001b[0m | \u001b[0m0.7122   \u001b[0m | \u001b[0m0.7626   \u001b[0m | \u001b[0m28.52    \u001b[0m |\n",
      "| \u001b[0m191      \u001b[0m | \u001b[0m0.6973   \u001b[0m | \u001b[0m0.5291   \u001b[0m | \u001b[0m0.6246   \u001b[0m | \u001b[0m70.01    \u001b[0m |\n",
      "| \u001b[0m192      \u001b[0m | \u001b[0m0.692    \u001b[0m | \u001b[0m0.9596   \u001b[0m | \u001b[0m0.8794   \u001b[0m | \u001b[0m131.3    \u001b[0m |\n",
      "| \u001b[0m193      \u001b[0m | \u001b[0m0.6507   \u001b[0m | \u001b[0m0.7282   \u001b[0m | \u001b[0m0.6479   \u001b[0m | \u001b[0m5.468    \u001b[0m |\n",
      "| \u001b[0m194      \u001b[0m | \u001b[0m0.688    \u001b[0m | \u001b[0m0.6529   \u001b[0m | \u001b[0m0.6391   \u001b[0m | \u001b[0m95.31    \u001b[0m |\n",
      "| \u001b[0m195      \u001b[0m | \u001b[0m0.6893   \u001b[0m | \u001b[0m0.8419   \u001b[0m | \u001b[0m0.7997   \u001b[0m | \u001b[0m61.08    \u001b[0m |\n",
      "| \u001b[0m196      \u001b[0m | \u001b[0m0.6867   \u001b[0m | \u001b[0m0.6347   \u001b[0m | \u001b[0m0.9594   \u001b[0m | \u001b[0m13.02    \u001b[0m |\n",
      "| \u001b[0m197      \u001b[0m | \u001b[0m0.6987   \u001b[0m | \u001b[0m0.6095   \u001b[0m | \u001b[0m0.5732   \u001b[0m | \u001b[0m135.6    \u001b[0m |\n",
      "| \u001b[0m198      \u001b[0m | \u001b[0m0.6827   \u001b[0m | \u001b[0m0.6744   \u001b[0m | \u001b[0m0.7799   \u001b[0m | \u001b[0m59.09    \u001b[0m |\n",
      "| \u001b[0m199      \u001b[0m | \u001b[0m0.6933   \u001b[0m | \u001b[0m0.5714   \u001b[0m | \u001b[0m0.6464   \u001b[0m | \u001b[0m38.38    \u001b[0m |\n",
      "| \u001b[0m200      \u001b[0m | \u001b[0m0.6973   \u001b[0m | \u001b[0m0.6908   \u001b[0m | \u001b[0m0.8888   \u001b[0m | \u001b[0m40.13    \u001b[0m |\n",
      "| \u001b[0m201      \u001b[0m | \u001b[0m0.668    \u001b[0m | \u001b[0m0.9121   \u001b[0m | \u001b[0m0.5528   \u001b[0m | \u001b[0m27.77    \u001b[0m |\n",
      "| \u001b[0m202      \u001b[0m | \u001b[0m0.692    \u001b[0m | \u001b[0m0.8921   \u001b[0m | \u001b[0m0.851    \u001b[0m | \u001b[0m103.6    \u001b[0m |\n",
      "| \u001b[0m203      \u001b[0m | \u001b[0m0.68     \u001b[0m | \u001b[0m0.9624   \u001b[0m | \u001b[0m0.561    \u001b[0m | \u001b[0m110.7    \u001b[0m |\n",
      "| \u001b[0m204      \u001b[0m | \u001b[0m0.696    \u001b[0m | \u001b[0m0.8588   \u001b[0m | \u001b[0m0.7123   \u001b[0m | \u001b[0m88.7     \u001b[0m |\n",
      "| \u001b[0m205      \u001b[0m | \u001b[0m0.6947   \u001b[0m | \u001b[0m0.99     \u001b[0m | \u001b[0m0.5204   \u001b[0m | \u001b[0m95.95    \u001b[0m |\n",
      "| \u001b[0m206      \u001b[0m | \u001b[0m0.6907   \u001b[0m | \u001b[0m0.9388   \u001b[0m | \u001b[0m0.5082   \u001b[0m | \u001b[0m99.83    \u001b[0m |\n",
      "| \u001b[0m207      \u001b[0m | \u001b[0m0.6867   \u001b[0m | \u001b[0m0.8068   \u001b[0m | \u001b[0m0.628    \u001b[0m | \u001b[0m118.0    \u001b[0m |\n",
      "| \u001b[0m208      \u001b[0m | \u001b[0m0.6867   \u001b[0m | \u001b[0m0.9023   \u001b[0m | \u001b[0m0.554    \u001b[0m | \u001b[0m30.94    \u001b[0m |\n",
      "| \u001b[0m209      \u001b[0m | \u001b[0m0.676    \u001b[0m | \u001b[0m0.9406   \u001b[0m | \u001b[0m0.955    \u001b[0m | \u001b[0m69.14    \u001b[0m |\n",
      "| \u001b[0m210      \u001b[0m | \u001b[0m0.6947   \u001b[0m | \u001b[0m0.7991   \u001b[0m | \u001b[0m0.7391   \u001b[0m | \u001b[0m26.89    \u001b[0m |\n",
      "| \u001b[0m211      \u001b[0m | \u001b[0m0.6907   \u001b[0m | \u001b[0m0.7387   \u001b[0m | \u001b[0m0.5958   \u001b[0m | \u001b[0m62.68    \u001b[0m |\n",
      "| \u001b[0m212      \u001b[0m | \u001b[0m0.696    \u001b[0m | \u001b[0m0.6787   \u001b[0m | \u001b[0m0.8722   \u001b[0m | \u001b[0m124.9    \u001b[0m |\n",
      "| \u001b[0m213      \u001b[0m | \u001b[0m0.692    \u001b[0m | \u001b[0m0.8975   \u001b[0m | \u001b[0m0.6224   \u001b[0m | \u001b[0m139.3    \u001b[0m |\n",
      "| \u001b[0m214      \u001b[0m | \u001b[0m0.6773   \u001b[0m | \u001b[0m0.6101   \u001b[0m | \u001b[0m0.856    \u001b[0m | \u001b[0m16.71    \u001b[0m |\n",
      "| \u001b[0m215      \u001b[0m | \u001b[0m0.7053   \u001b[0m | \u001b[0m0.8645   \u001b[0m | \u001b[0m0.5034   \u001b[0m | \u001b[0m45.17    \u001b[0m |\n",
      "| \u001b[0m216      \u001b[0m | \u001b[0m0.6933   \u001b[0m | \u001b[0m0.6994   \u001b[0m | \u001b[0m0.9049   \u001b[0m | \u001b[0m143.5    \u001b[0m |\n",
      "| \u001b[0m217      \u001b[0m | \u001b[0m0.7013   \u001b[0m | \u001b[0m0.7401   \u001b[0m | \u001b[0m0.8049   \u001b[0m | \u001b[0m139.4    \u001b[0m |\n",
      "| \u001b[0m218      \u001b[0m | \u001b[0m0.6853   \u001b[0m | \u001b[0m0.5035   \u001b[0m | \u001b[0m0.6347   \u001b[0m | \u001b[0m77.25    \u001b[0m |\n",
      "| \u001b[0m219      \u001b[0m | \u001b[0m0.684    \u001b[0m | \u001b[0m0.947    \u001b[0m | \u001b[0m0.7269   \u001b[0m | \u001b[0m91.51    \u001b[0m |\n",
      "| \u001b[0m220      \u001b[0m | \u001b[0m0.7      \u001b[0m | \u001b[0m0.9825   \u001b[0m | \u001b[0m0.5011   \u001b[0m | \u001b[0m61.87    \u001b[0m |\n",
      "=============================================================\n"
     ]
    }
   ],
   "source": [
    "results = rf_bo.maximize(n_iter=200, init_points=20,acq='ei')"
   ]
  },
  {
   "cell_type": "code",
   "execution_count": 38,
   "id": "11f3bbe8",
   "metadata": {},
   "outputs": [
    {
     "name": "stdout",
     "output_type": "stream",
     "text": [
      "{'max_features': 0.7076868331844419, 'max_samples': 0.51706661601717, 'n_estimators': 100}\n"
     ]
    }
   ],
   "source": [
    "params = rf_bo.max['params']\n",
    "params['n_estimators']= int(params['n_estimators'])\n",
    "print(params)"
   ]
  },
  {
   "cell_type": "code",
   "execution_count": 39,
   "id": "349071c7",
   "metadata": {},
   "outputs": [],
   "source": [
    "rf_vf = RandomForestClassifier(max_samples=params['max_samples'],max_features=params['max_features'],n_estimators=params['n_estimators'])"
   ]
  },
  {
   "cell_type": "code",
   "execution_count": 40,
   "id": "f49e9de6",
   "metadata": {},
   "outputs": [
    {
     "data": {
      "text/html": [
       "<style>#sk-container-id-4 {color: black;background-color: white;}#sk-container-id-4 pre{padding: 0;}#sk-container-id-4 div.sk-toggleable {background-color: white;}#sk-container-id-4 label.sk-toggleable__label {cursor: pointer;display: block;width: 100%;margin-bottom: 0;padding: 0.3em;box-sizing: border-box;text-align: center;}#sk-container-id-4 label.sk-toggleable__label-arrow:before {content: \"▸\";float: left;margin-right: 0.25em;color: #696969;}#sk-container-id-4 label.sk-toggleable__label-arrow:hover:before {color: black;}#sk-container-id-4 div.sk-estimator:hover label.sk-toggleable__label-arrow:before {color: black;}#sk-container-id-4 div.sk-toggleable__content {max-height: 0;max-width: 0;overflow: hidden;text-align: left;background-color: #f0f8ff;}#sk-container-id-4 div.sk-toggleable__content pre {margin: 0.2em;color: black;border-radius: 0.25em;background-color: #f0f8ff;}#sk-container-id-4 input.sk-toggleable__control:checked~div.sk-toggleable__content {max-height: 200px;max-width: 100%;overflow: auto;}#sk-container-id-4 input.sk-toggleable__control:checked~label.sk-toggleable__label-arrow:before {content: \"▾\";}#sk-container-id-4 div.sk-estimator input.sk-toggleable__control:checked~label.sk-toggleable__label {background-color: #d4ebff;}#sk-container-id-4 div.sk-label input.sk-toggleable__control:checked~label.sk-toggleable__label {background-color: #d4ebff;}#sk-container-id-4 input.sk-hidden--visually {border: 0;clip: rect(1px 1px 1px 1px);clip: rect(1px, 1px, 1px, 1px);height: 1px;margin: -1px;overflow: hidden;padding: 0;position: absolute;width: 1px;}#sk-container-id-4 div.sk-estimator {font-family: monospace;background-color: #f0f8ff;border: 1px dotted black;border-radius: 0.25em;box-sizing: border-box;margin-bottom: 0.5em;}#sk-container-id-4 div.sk-estimator:hover {background-color: #d4ebff;}#sk-container-id-4 div.sk-parallel-item::after {content: \"\";width: 100%;border-bottom: 1px solid gray;flex-grow: 1;}#sk-container-id-4 div.sk-label:hover label.sk-toggleable__label {background-color: #d4ebff;}#sk-container-id-4 div.sk-serial::before {content: \"\";position: absolute;border-left: 1px solid gray;box-sizing: border-box;top: 0;bottom: 0;left: 50%;z-index: 0;}#sk-container-id-4 div.sk-serial {display: flex;flex-direction: column;align-items: center;background-color: white;padding-right: 0.2em;padding-left: 0.2em;position: relative;}#sk-container-id-4 div.sk-item {position: relative;z-index: 1;}#sk-container-id-4 div.sk-parallel {display: flex;align-items: stretch;justify-content: center;background-color: white;position: relative;}#sk-container-id-4 div.sk-item::before, #sk-container-id-4 div.sk-parallel-item::before {content: \"\";position: absolute;border-left: 1px solid gray;box-sizing: border-box;top: 0;bottom: 0;left: 50%;z-index: -1;}#sk-container-id-4 div.sk-parallel-item {display: flex;flex-direction: column;z-index: 1;position: relative;background-color: white;}#sk-container-id-4 div.sk-parallel-item:first-child::after {align-self: flex-end;width: 50%;}#sk-container-id-4 div.sk-parallel-item:last-child::after {align-self: flex-start;width: 50%;}#sk-container-id-4 div.sk-parallel-item:only-child::after {width: 0;}#sk-container-id-4 div.sk-dashed-wrapped {border: 1px dashed gray;margin: 0 0.4em 0.5em 0.4em;box-sizing: border-box;padding-bottom: 0.4em;background-color: white;}#sk-container-id-4 div.sk-label label {font-family: monospace;font-weight: bold;display: inline-block;line-height: 1.2em;}#sk-container-id-4 div.sk-label-container {text-align: center;}#sk-container-id-4 div.sk-container {/* jupyter's `normalize.less` sets `[hidden] { display: none; }` but bootstrap.min.css set `[hidden] { display: none !important; }` so we also need the `!important` here to be able to override the default hidden behavior on the sphinx rendered scikit-learn.org. See: https://github.com/scikit-learn/scikit-learn/issues/21755 */display: inline-block !important;position: relative;}#sk-container-id-4 div.sk-text-repr-fallback {display: none;}</style><div id=\"sk-container-id-4\" class=\"sk-top-container\"><div class=\"sk-text-repr-fallback\"><pre>RandomForestClassifier(max_features=0.7076868331844419,\n",
       "                       max_samples=0.51706661601717)</pre><b>In a Jupyter environment, please rerun this cell to show the HTML representation or trust the notebook. <br />On GitHub, the HTML representation is unable to render, please try loading this page with nbviewer.org.</b></div><div class=\"sk-container\" hidden><div class=\"sk-item\"><div class=\"sk-estimator sk-toggleable\"><input class=\"sk-toggleable__control sk-hidden--visually\" id=\"sk-estimator-id-8\" type=\"checkbox\" checked><label for=\"sk-estimator-id-8\" class=\"sk-toggleable__label sk-toggleable__label-arrow\">RandomForestClassifier</label><div class=\"sk-toggleable__content\"><pre>RandomForestClassifier(max_features=0.7076868331844419,\n",
       "                       max_samples=0.51706661601717)</pre></div></div></div></div></div>"
      ],
      "text/plain": [
       "RandomForestClassifier(max_features=0.7076868331844419,\n",
       "                       max_samples=0.51706661601717)"
      ]
     },
     "execution_count": 40,
     "metadata": {},
     "output_type": "execute_result"
    }
   ],
   "source": [
    "rf_vf.fit(X_train,y_train)"
   ]
  },
  {
   "cell_type": "code",
   "execution_count": 41,
   "id": "23164c8a",
   "metadata": {},
   "outputs": [],
   "source": [
    "bo_pred = rf_vf.predict(X_test)"
   ]
  },
  {
   "cell_type": "code",
   "execution_count": 42,
   "id": "8e9816c3",
   "metadata": {},
   "outputs": [
    {
     "name": "stdout",
     "output_type": "stream",
     "text": [
      "              precision    recall  f1-score   support\n",
      "\n",
      "           0       0.90      0.74      0.81       215\n",
      "           1       0.24      0.49      0.32        35\n",
      "\n",
      "    accuracy                           0.71       250\n",
      "   macro avg       0.57      0.61      0.57       250\n",
      "weighted avg       0.81      0.71      0.74       250\n",
      "\n"
     ]
    }
   ],
   "source": [
    "print(classification_report(bo_pred,y_test))"
   ]
  },
  {
   "cell_type": "code",
   "execution_count": 43,
   "id": "2d99057a",
   "metadata": {},
   "outputs": [
    {
     "name": "stdout",
     "output_type": "stream",
     "text": [
      "Accuracy:0.708\n",
      "Precision:0.2361111111111111\n",
      "Recall:0.4857142857142857\n",
      "F1 Score:0.3177570093457944\n"
     ]
    }
   ],
   "source": [
    "print(\"Accuracy:{}\".format(accuracy_score(bo_pred,y_test)))\n",
    "print(\"Precision:{}\".format(precision_score(bo_pred,y_test)))\n",
    "print(\"Recall:{}\".format(recall_score(bo_pred,y_test)))\n",
    "print(\"F1 Score:{}\".format((f1_score(bo_pred,y_test))))"
   ]
  },
  {
   "cell_type": "code",
   "execution_count": 44,
   "id": "d0c8c15b",
   "metadata": {},
   "outputs": [
    {
     "data": {
      "image/png": "[encoded data removed]",
      "text/plain": [
       "<Figure size 640x480 with 1 Axes>"
      ]
     },
     "metadata": {},
     "output_type": "display_data"
    }
   ],
   "source": [
    "# Generate ROC curve values: fpr, tpr, thresholds\n",
    "fpr, tpr, thresholds = roc_curve(y_test, bo_pred)\n",
    "\n",
    "# Plot ROC curve\n",
    "plt.plot([0, 1], [0, 1], 'k--')\n",
    "plt.plot(fpr, tpr)\n",
    "plt.xlabel('False Positive Rate')\n",
    "plt.ylabel('True Positive Rate')\n",
    "plt.title('ROC Curve')\n",
    "plt.show()"
   ]
  },
  {
   "cell_type": "code",
   "execution_count": null,
   "id": "fe0ae000",
   "metadata": {},
   "outputs": [],
   "source": []
  }
 ],
 "metadata": {
  "kernelspec": {
   "display_name": "Python 3 (ipykernel)",
   "language": "python",
   "name": "python3"
  },
  "language_info": {
   "codemirror_mode": {
    "name": "ipython",
    "version": 3
   },
   "file_extension": ".py",
   "mimetype": "text/x-python",
   "name": "python",
   "nbconvert_exporter": "python",
   "pygments_lexer": "ipython3",
   "version": "3.9.12"
  }
 },
 "nbformat": 4,
 "nbformat_minor": 5
}
